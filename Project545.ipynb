{
  "nbformat": 4,
  "nbformat_minor": 0,
  "metadata": {
    "colab": {
      "name": "Project545.ipynb",
      "provenance": [],
      "collapsed_sections": []
    },
    "kernelspec": {
      "name": "python3",
      "display_name": "Python 3"
    },
    "accelerator": "GPU"
  },
  "cells": [
    {
      "cell_type": "markdown",
      "metadata": {
        "id": "s8P5t0WT9YOG",
        "colab_type": "text"
      },
      "source": [
        "# **CIS 545 Project**\n",
        "\n",
        "Aim of this project is to try and predict Amazon Star Ratings based on the content of the review. The dataset has 100,000 reviews. "
      ]
    },
    {
      "cell_type": "markdown",
      "metadata": {
        "id": "mkPRYXhl-cRP",
        "colab_type": "text"
      },
      "source": [
        "**Layout of the Project**\n",
        "\n",
        "1. Installing requried packages and dataset\n",
        "2. Data collection and Extraction\n",
        "3. Feature Extraction\n",
        "4. Dataset Analysis\n",
        "5. Building the model\n",
        "6. Analysis of the models"
      ]
    },
    {
      "cell_type": "markdown",
      "metadata": {
        "id": "Gi0gqWfk-_X7",
        "colab_type": "text"
      },
      "source": [
        "**1.1 Installing required packages**"
      ]
    },
    {
      "cell_type": "code",
      "metadata": {
        "id": "1gh4kqvt9ZGN",
        "colab_type": "code",
        "colab": {}
      },
      "source": [
        "# install stuff\n",
        "%%capture\n",
        "!pip install -U gensim\n",
        "!pip install urllib2"
      ],
      "execution_count": 0,
      "outputs": []
    },
    {
      "cell_type": "code",
      "metadata": {
        "id": "m8XzCr5NYdkC",
        "colab_type": "code",
        "outputId": "68d7471d-c91c-4c79-f1ff-70eaee143d17",
        "colab": {
          "base_uri": "https://localhost:8080/",
          "height": 35
        }
      },
      "source": [
        "import gensim\n",
        "gensim.__version__"
      ],
      "execution_count": 0,
      "outputs": [
        {
          "output_type": "execute_result",
          "data": {
            "text/plain": [
              "'3.8.1'"
            ]
          },
          "metadata": {
            "tags": []
          },
          "execution_count": 2
        }
      ]
    },
    {
      "cell_type": "code",
      "metadata": {
        "id": "PO4Ufe05Yf04",
        "colab_type": "code",
        "colab": {}
      },
      "source": [
        "# import stuff\n",
        "import numpy as np\n",
        "import pandas as pd\n",
        "import matplotlib.pyplot as plt\n",
        "import seaborn as sn\n",
        "\n",
        "from gensim import corpora\n",
        "from gensim.models import LsiModel, KeyedVectors\n",
        "from gensim.models.tfidfmodel import TfidfModel\n",
        "from gensim.models.nmf import Nmf\n",
        "\n",
        "import sklearn.model_selection as ms\n",
        "\n",
        "from datetime import *\n",
        "from operator import itemgetter\n",
        "from datetime import datetime\n",
        "\n",
        "from sklearn.metrics import accuracy_score\n",
        "from sklearn.model_selection import train_test_split\n",
        "from sklearn.metrics import confusion_matrix\n",
        "from sklearn.metrics import accuracy_score, f1_score, precision_score, recall_score, classification_report, confusion_matrix\n",
        "\n",
        "from sklearn.metrics import accuracy_score, log_loss\n",
        "from sklearn.neighbors import KNeighborsClassifier\n",
        "from sklearn.tree import DecisionTreeClassifier\n",
        "from sklearn.ensemble import RandomForestClassifier\n",
        "from sklearn.naive_bayes import GaussianNB\n",
        "from sklearn.linear_model import LogisticRegression\n",
        "from sklearn.ensemble import AdaBoostClassifier\n",
        "\n",
        "import os"
      ],
      "execution_count": 0,
      "outputs": []
    },
    {
      "cell_type": "code",
      "metadata": {
        "id": "FaQNdlq-PXH7",
        "colab_type": "code",
        "outputId": "77daea4a-0e8d-48c5-b4dc-aebd994d0076",
        "colab": {
          "base_uri": "https://localhost:8080/",
          "height": 52
        }
      },
      "source": [
        "import nltk\n",
        "nltk.downloader.download('vader_lexicon')\n",
        "from nltk.sentiment import SentimentAnalyzer\n",
        "from sklearn.feature_extraction.text import CountVectorizer\n",
        "from sklearn.feature_extraction.text import TfidfTransformer"
      ],
      "execution_count": 0,
      "outputs": [
        {
          "output_type": "stream",
          "text": [
            "[nltk_data] Downloading package vader_lexicon to /root/nltk_data...\n",
            "[nltk_data]   Package vader_lexicon is already up-to-date!\n"
          ],
          "name": "stdout"
        }
      ]
    },
    {
      "cell_type": "code",
      "metadata": {
        "id": "oZh0LRdFPmCY",
        "colab_type": "code",
        "colab": {}
      },
      "source": [
        "from google.colab import drive\n",
        "from google.colab import files\n",
        "import io"
      ],
      "execution_count": 0,
      "outputs": []
    },
    {
      "cell_type": "markdown",
      "metadata": {
        "id": "nhDhtzVjDHiF",
        "colab_type": "text"
      },
      "source": [
        "**1.2 Uploading the csv dataset** \n",
        "\n",
        "The final dataset which used by the classifier to predict the star ratings is in an csv file. \n",
        "\n",
        "Please follow the steps below to install the csv file titled **\"Final_DataSet-545.csv\"**\n",
        "\n",
        "The csv file will contain 10 columns (Index, Review, Ratings, Postive_Sentiment, Postive_Sentiment, Postive_Sentiment, Review Length, Date_of_Review, Holiday_Season, bag_of_words)"
      ]
    },
    {
      "cell_type": "markdown",
      "metadata": {
        "id": "_p3IzwxhDmPA",
        "colab_type": "text"
      },
      "source": [
        "**This cell need not be run.**"
      ]
    },
    {
      "cell_type": "code",
      "metadata": {
        "id": "0SL8C1TKDYQU",
        "colab_type": "code",
        "colab": {}
      },
      "source": [
        "#Used to save pandas dataframe to google drive\n",
        "\n",
        "from google.colab import drive\n",
        "drive.mount('drive')\n",
        "df.to_csv('data.csv')\n",
        "!cp data.csv drive/My\\ Drive/"
      ],
      "execution_count": 0,
      "outputs": []
    },
    {
      "cell_type": "markdown",
      "metadata": {
        "id": "jg7I2mkQDrQk",
        "colab_type": "text"
      },
      "source": [
        "**Please run this cell**\n",
        "\n",
        "Please click on the \"Choose Files\" button and browse to the location of the csv file. (It will take 5-10 minutes for the file to upload)\n",
        "\n",
        "Note: Incase of any error please **rerun** this cell again.\n"
      ]
    },
    {
      "cell_type": "code",
      "metadata": {
        "id": "cYf5hJssD1Vh",
        "colab_type": "code",
        "outputId": "03ac49e2-6a6a-46f4-a1e3-8628b601b530",
        "colab": {
          "resources": {
            "http://localhost:8080/nbextensions/google.colab/files.js": {
              "data": "Ly8gQ29weXJpZ2h0IDIwMTcgR29vZ2xlIExMQwovLwovLyBMaWNlbnNlZCB1bmRlciB0aGUgQXBhY2hlIExpY2Vuc2UsIFZlcnNpb24gMi4wICh0aGUgIkxpY2Vuc2UiKTsKLy8geW91IG1heSBub3QgdXNlIHRoaXMgZmlsZSBleGNlcHQgaW4gY29tcGxpYW5jZSB3aXRoIHRoZSBMaWNlbnNlLgovLyBZb3UgbWF5IG9idGFpbiBhIGNvcHkgb2YgdGhlIExpY2Vuc2UgYXQKLy8KLy8gICAgICBodHRwOi8vd3d3LmFwYWNoZS5vcmcvbGljZW5zZXMvTElDRU5TRS0yLjAKLy8KLy8gVW5sZXNzIHJlcXVpcmVkIGJ5IGFwcGxpY2FibGUgbGF3IG9yIGFncmVlZCB0byBpbiB3cml0aW5nLCBzb2Z0d2FyZQovLyBkaXN0cmlidXRlZCB1bmRlciB0aGUgTGljZW5zZSBpcyBkaXN0cmlidXRlZCBvbiBhbiAiQVMgSVMiIEJBU0lTLAovLyBXSVRIT1VUIFdBUlJBTlRJRVMgT1IgQ09ORElUSU9OUyBPRiBBTlkgS0lORCwgZWl0aGVyIGV4cHJlc3Mgb3IgaW1wbGllZC4KLy8gU2VlIHRoZSBMaWNlbnNlIGZvciB0aGUgc3BlY2lmaWMgbGFuZ3VhZ2UgZ292ZXJuaW5nIHBlcm1pc3Npb25zIGFuZAovLyBsaW1pdGF0aW9ucyB1bmRlciB0aGUgTGljZW5zZS4KCi8qKgogKiBAZmlsZW92ZXJ2aWV3IEhlbHBlcnMgZm9yIGdvb2dsZS5jb2xhYiBQeXRob24gbW9kdWxlLgogKi8KKGZ1bmN0aW9uKHNjb3BlKSB7CmZ1bmN0aW9uIHNwYW4odGV4dCwgc3R5bGVBdHRyaWJ1dGVzID0ge30pIHsKICBjb25zdCBlbGVtZW50ID0gZG9jdW1lbnQuY3JlYXRlRWxlbWVudCgnc3BhbicpOwogIGVsZW1lbnQudGV4dENvbnRlbnQgPSB0ZXh0OwogIGZvciAoY29uc3Qga2V5IG9mIE9iamVjdC5rZXlzKHN0eWxlQXR0cmlidXRlcykpIHsKICAgIGVsZW1lbnQuc3R5bGVba2V5XSA9IHN0eWxlQXR0cmlidXRlc1trZXldOwogIH0KICByZXR1cm4gZWxlbWVudDsKfQoKLy8gTWF4IG51bWJlciBvZiBieXRlcyB3aGljaCB3aWxsIGJlIHVwbG9hZGVkIGF0IGEgdGltZS4KY29uc3QgTUFYX1BBWUxPQURfU0laRSA9IDEwMCAqIDEwMjQ7Ci8vIE1heCBhbW91bnQgb2YgdGltZSB0byBibG9jayB3YWl0aW5nIGZvciB0aGUgdXNlci4KY29uc3QgRklMRV9DSEFOR0VfVElNRU9VVF9NUyA9IDMwICogMTAwMDsKCmZ1bmN0aW9uIF91cGxvYWRGaWxlcyhpbnB1dElkLCBvdXRwdXRJZCkgewogIGNvbnN0IHN0ZXBzID0gdXBsb2FkRmlsZXNTdGVwKGlucHV0SWQsIG91dHB1dElkKTsKICBjb25zdCBvdXRwdXRFbGVtZW50ID0gZG9jdW1lbnQuZ2V0RWxlbWVudEJ5SWQob3V0cHV0SWQpOwogIC8vIENhY2hlIHN0ZXBzIG9uIHRoZSBvdXRwdXRFbGVtZW50IHRvIG1ha2UgaXQgYXZhaWxhYmxlIGZvciB0aGUgbmV4dCBjYWxsCiAgLy8gdG8gdXBsb2FkRmlsZXNDb250aW51ZSBmcm9tIFB5dGhvbi4KICBvdXRwdXRFbGVtZW50LnN0ZXBzID0gc3RlcHM7CgogIHJldHVybiBfdXBsb2FkRmlsZXNDb250aW51ZShvdXRwdXRJZCk7Cn0KCi8vIFRoaXMgaXMgcm91Z2hseSBhbiBhc3luYyBnZW5lcmF0b3IgKG5vdCBzdXBwb3J0ZWQgaW4gdGhlIGJyb3dzZXIgeWV0KSwKLy8gd2hlcmUgdGhlcmUgYXJlIG11bHRpcGxlIGFzeW5jaHJvbm91cyBzdGVwcyBhbmQgdGhlIFB5dGhvbiBzaWRlIGlzIGdvaW5nCi8vIHRvIHBvbGwgZm9yIGNvbXBsZXRpb24gb2YgZWFjaCBzdGVwLgovLyBUaGlzIHVzZXMgYSBQcm9taXNlIHRvIGJsb2NrIHRoZSBweXRob24gc2lkZSBvbiBjb21wbGV0aW9uIG9mIGVhY2ggc3RlcCwKLy8gdGhlbiBwYXNzZXMgdGhlIHJlc3VsdCBvZiB0aGUgcHJldmlvdXMgc3RlcCBhcyB0aGUgaW5wdXQgdG8gdGhlIG5leHQgc3RlcC4KZnVuY3Rpb24gX3VwbG9hZEZpbGVzQ29udGludWUob3V0cHV0SWQpIHsKICBjb25zdCBvdXRwdXRFbGVtZW50ID0gZG9jdW1lbnQuZ2V0RWxlbWVudEJ5SWQob3V0cHV0SWQpOwogIGNvbnN0IHN0ZXBzID0gb3V0cHV0RWxlbWVudC5zdGVwczsKCiAgY29uc3QgbmV4dCA9IHN0ZXBzLm5leHQob3V0cHV0RWxlbWVudC5sYXN0UHJvbWlzZVZhbHVlKTsKICByZXR1cm4gUHJvbWlzZS5yZXNvbHZlKG5leHQudmFsdWUucHJvbWlzZSkudGhlbigodmFsdWUpID0+IHsKICAgIC8vIENhY2hlIHRoZSBsYXN0IHByb21pc2UgdmFsdWUgdG8gbWFrZSBpdCBhdmFpbGFibGUgdG8gdGhlIG5leHQKICAgIC8vIHN0ZXAgb2YgdGhlIGdlbmVyYXRvci4KICAgIG91dHB1dEVsZW1lbnQubGFzdFByb21pc2VWYWx1ZSA9IHZhbHVlOwogICAgcmV0dXJuIG5leHQudmFsdWUucmVzcG9uc2U7CiAgfSk7Cn0KCi8qKgogKiBHZW5lcmF0b3IgZnVuY3Rpb24gd2hpY2ggaXMgY2FsbGVkIGJldHdlZW4gZWFjaCBhc3luYyBzdGVwIG9mIHRoZSB1cGxvYWQKICogcHJvY2Vzcy4KICogQHBhcmFtIHtzdHJpbmd9IGlucHV0SWQgRWxlbWVudCBJRCBvZiB0aGUgaW5wdXQgZmlsZSBwaWNrZXIgZWxlbWVudC4KICogQHBhcmFtIHtzdHJpbmd9IG91dHB1dElkIEVsZW1lbnQgSUQgb2YgdGhlIG91dHB1dCBkaXNwbGF5LgogKiBAcmV0dXJuIHshSXRlcmFibGU8IU9iamVjdD59IEl0ZXJhYmxlIG9mIG5leHQgc3RlcHMuCiAqLwpmdW5jdGlvbiogdXBsb2FkRmlsZXNTdGVwKGlucHV0SWQsIG91dHB1dElkKSB7CiAgY29uc3QgaW5wdXRFbGVtZW50ID0gZG9jdW1lbnQuZ2V0RWxlbWVudEJ5SWQoaW5wdXRJZCk7CiAgaW5wdXRFbGVtZW50LmRpc2FibGVkID0gZmFsc2U7CgogIGNvbnN0IG91dHB1dEVsZW1lbnQgPSBkb2N1bWVudC5nZXRFbGVtZW50QnlJZChvdXRwdXRJZCk7CiAgb3V0cHV0RWxlbWVudC5pbm5lckhUTUwgPSAnJzsKCiAgY29uc3QgcGlja2VkUHJvbWlzZSA9IG5ldyBQcm9taXNlKChyZXNvbHZlKSA9PiB7CiAgICBpbnB1dEVsZW1lbnQuYWRkRXZlbnRMaXN0ZW5lcignY2hhbmdlJywgKGUpID0+IHsKICAgICAgcmVzb2x2ZShlLnRhcmdldC5maWxlcyk7CiAgICB9KTsKICB9KTsKCiAgY29uc3QgY2FuY2VsID0gZG9jdW1lbnQuY3JlYXRlRWxlbWVudCgnYnV0dG9uJyk7CiAgaW5wdXRFbGVtZW50LnBhcmVudEVsZW1lbnQuYXBwZW5kQ2hpbGQoY2FuY2VsKTsKICBjYW5jZWwudGV4dENvbnRlbnQgPSAnQ2FuY2VsIHVwbG9hZCc7CiAgY29uc3QgY2FuY2VsUHJvbWlzZSA9IG5ldyBQcm9taXNlKChyZXNvbHZlKSA9PiB7CiAgICBjYW5jZWwub25jbGljayA9ICgpID0+IHsKICAgICAgcmVzb2x2ZShudWxsKTsKICAgIH07CiAgfSk7CgogIC8vIENhbmNlbCB1cGxvYWQgaWYgdXNlciBoYXNuJ3QgcGlja2VkIGFueXRoaW5nIGluIHRpbWVvdXQuCiAgY29uc3QgdGltZW91dFByb21pc2UgPSBuZXcgUHJvbWlzZSgocmVzb2x2ZSkgPT4gewogICAgc2V0VGltZW91dCgoKSA9PiB7CiAgICAgIHJlc29sdmUobnVsbCk7CiAgICB9LCBGSUxFX0NIQU5HRV9USU1FT1VUX01TKTsKICB9KTsKCiAgLy8gV2FpdCBmb3IgdGhlIHVzZXIgdG8gcGljayB0aGUgZmlsZXMuCiAgY29uc3QgZmlsZXMgPSB5aWVsZCB7CiAgICBwcm9taXNlOiBQcm9taXNlLnJhY2UoW3BpY2tlZFByb21pc2UsIHRpbWVvdXRQcm9taXNlLCBjYW5jZWxQcm9taXNlXSksCiAgICByZXNwb25zZTogewogICAgICBhY3Rpb246ICdzdGFydGluZycsCiAgICB9CiAgfTsKCiAgaWYgKCFmaWxlcykgewogICAgcmV0dXJuIHsKICAgICAgcmVzcG9uc2U6IHsKICAgICAgICBhY3Rpb246ICdjb21wbGV0ZScsCiAgICAgIH0KICAgIH07CiAgfQoKICBjYW5jZWwucmVtb3ZlKCk7CgogIC8vIERpc2FibGUgdGhlIGlucHV0IGVsZW1lbnQgc2luY2UgZnVydGhlciBwaWNrcyBhcmUgbm90IGFsbG93ZWQuCiAgaW5wdXRFbGVtZW50LmRpc2FibGVkID0gdHJ1ZTsKCiAgZm9yIChjb25zdCBmaWxlIG9mIGZpbGVzKSB7CiAgICBjb25zdCBsaSA9IGRvY3VtZW50LmNyZWF0ZUVsZW1lbnQoJ2xpJyk7CiAgICBsaS5hcHBlbmQoc3BhbihmaWxlLm5hbWUsIHtmb250V2VpZ2h0OiAnYm9sZCd9KSk7CiAgICBsaS5hcHBlbmQoc3BhbigKICAgICAgICBgKCR7ZmlsZS50eXBlIHx8ICduL2EnfSkgLSAke2ZpbGUuc2l6ZX0gYnl0ZXMsIGAgKwogICAgICAgIGBsYXN0IG1vZGlmaWVkOiAkewogICAgICAgICAgICBmaWxlLmxhc3RNb2RpZmllZERhdGUgPyBmaWxlLmxhc3RNb2RpZmllZERhdGUudG9Mb2NhbGVEYXRlU3RyaW5nKCkgOgogICAgICAgICAgICAgICAgICAgICAgICAgICAgICAgICAgICAnbi9hJ30gLSBgKSk7CiAgICBjb25zdCBwZXJjZW50ID0gc3BhbignMCUgZG9uZScpOwogICAgbGkuYXBwZW5kQ2hpbGQocGVyY2VudCk7CgogICAgb3V0cHV0RWxlbWVudC5hcHBlbmRDaGlsZChsaSk7CgogICAgY29uc3QgZmlsZURhdGFQcm9taXNlID0gbmV3IFByb21pc2UoKHJlc29sdmUpID0+IHsKICAgICAgY29uc3QgcmVhZGVyID0gbmV3IEZpbGVSZWFkZXIoKTsKICAgICAgcmVhZGVyLm9ubG9hZCA9IChlKSA9PiB7CiAgICAgICAgcmVzb2x2ZShlLnRhcmdldC5yZXN1bHQpOwogICAgICB9OwogICAgICByZWFkZXIucmVhZEFzQXJyYXlCdWZmZXIoZmlsZSk7CiAgICB9KTsKICAgIC8vIFdhaXQgZm9yIHRoZSBkYXRhIHRvIGJlIHJlYWR5LgogICAgbGV0IGZpbGVEYXRhID0geWllbGQgewogICAgICBwcm9taXNlOiBmaWxlRGF0YVByb21pc2UsCiAgICAgIHJlc3BvbnNlOiB7CiAgICAgICAgYWN0aW9uOiAnY29udGludWUnLAogICAgICB9CiAgICB9OwoKICAgIC8vIFVzZSBhIGNodW5rZWQgc2VuZGluZyB0byBhdm9pZCBtZXNzYWdlIHNpemUgbGltaXRzLiBTZWUgYi82MjExNTY2MC4KICAgIGxldCBwb3NpdGlvbiA9IDA7CiAgICB3aGlsZSAocG9zaXRpb24gPCBmaWxlRGF0YS5ieXRlTGVuZ3RoKSB7CiAgICAgIGNvbnN0IGxlbmd0aCA9IE1hdGgubWluKGZpbGVEYXRhLmJ5dGVMZW5ndGggLSBwb3NpdGlvbiwgTUFYX1BBWUxPQURfU0laRSk7CiAgICAgIGNvbnN0IGNodW5rID0gbmV3IFVpbnQ4QXJyYXkoZmlsZURhdGEsIHBvc2l0aW9uLCBsZW5ndGgpOwogICAgICBwb3NpdGlvbiArPSBsZW5ndGg7CgogICAgICBjb25zdCBiYXNlNjQgPSBidG9hKFN0cmluZy5mcm9tQ2hhckNvZGUuYXBwbHkobnVsbCwgY2h1bmspKTsKICAgICAgeWllbGQgewogICAgICAgIHJlc3BvbnNlOiB7CiAgICAgICAgICBhY3Rpb246ICdhcHBlbmQnLAogICAgICAgICAgZmlsZTogZmlsZS5uYW1lLAogICAgICAgICAgZGF0YTogYmFzZTY0LAogICAgICAgIH0sCiAgICAgIH07CiAgICAgIHBlcmNlbnQudGV4dENvbnRlbnQgPQogICAgICAgICAgYCR7TWF0aC5yb3VuZCgocG9zaXRpb24gLyBmaWxlRGF0YS5ieXRlTGVuZ3RoKSAqIDEwMCl9JSBkb25lYDsKICAgIH0KICB9CgogIC8vIEFsbCBkb25lLgogIHlpZWxkIHsKICAgIHJlc3BvbnNlOiB7CiAgICAgIGFjdGlvbjogJ2NvbXBsZXRlJywKICAgIH0KICB9Owp9CgpzY29wZS5nb29nbGUgPSBzY29wZS5nb29nbGUgfHwge307CnNjb3BlLmdvb2dsZS5jb2xhYiA9IHNjb3BlLmdvb2dsZS5jb2xhYiB8fCB7fTsKc2NvcGUuZ29vZ2xlLmNvbGFiLl9maWxlcyA9IHsKICBfdXBsb2FkRmlsZXMsCiAgX3VwbG9hZEZpbGVzQ29udGludWUsCn07Cn0pKHNlbGYpOwo=",
              "ok": true,
              "headers": [
                [
                  "content-type",
                  "application/javascript"
                ]
              ],
              "status": 200,
              "status_text": ""
            }
          },
          "base_uri": "https://localhost:8080/",
          "height": 75
        }
      },
      "source": [
        "from google.colab import files\n",
        "uploaded = files.upload()"
      ],
      "execution_count": 0,
      "outputs": [
        {
          "output_type": "display_data",
          "data": {
            "text/html": [
              "\n",
              "     <input type=\"file\" id=\"files-f00e766e-a83e-4b04-847d-c18f2d9ab03f\" name=\"files[]\" multiple disabled />\n",
              "     <output id=\"result-f00e766e-a83e-4b04-847d-c18f2d9ab03f\">\n",
              "      Upload widget is only available when the cell has been executed in the\n",
              "      current browser session. Please rerun this cell to enable.\n",
              "      </output>\n",
              "      <script src=\"/nbextensions/google.colab/files.js\"></script> "
            ],
            "text/plain": [
              "<IPython.core.display.HTML object>"
            ]
          },
          "metadata": {
            "tags": []
          }
        },
        {
          "output_type": "stream",
          "text": [
            "Saving Final_DataSet-545.csv to Final_DataSet-545.csv\n"
          ],
          "name": "stdout"
        }
      ]
    },
    {
      "cell_type": "markdown",
      "metadata": {
        "id": "FK0w0RHARHhM",
        "colab_type": "text"
      },
      "source": [
        "**2. Data collection and Extraction**\n",
        "\n",
        "Although we have already downloaded the entire dataset of 100,000 records. We will still create a dummy dataframe of 10 reviews so that we can go through the steps that were followed to create the actual dataset."
      ]
    },
    {
      "cell_type": "markdown",
      "metadata": {
        "id": "sR_sizZG_TH1",
        "colab_type": "text"
      },
      "source": [
        "2.1\n",
        "\n",
        "The first step is to download the dataset from the web."
      ]
    },
    {
      "cell_type": "code",
      "metadata": {
        "id": "KvYq3CzhYi9Z",
        "colab_type": "code",
        "colab": {}
      },
      "source": [
        "%%capture\n",
        "!wget https://cis.upenn.edu/~cis545/data/reviews.dict\n",
        "!wget https://cis.upenn.edu/~cis545/data/train_reviews.mm\n",
        "!wget https://cis.upenn.edu/~cis545/data/train_times.npy"
      ],
      "execution_count": 0,
      "outputs": []
    },
    {
      "cell_type": "markdown",
      "metadata": {
        "id": "LyXg_H2uROcL",
        "colab_type": "text"
      },
      "source": [
        "2.2\n",
        "\n",
        "Once we get the data from the web, we use the \"Gensim\" library to load the reviews as a dictionary. We also get the time stamp of each review and the actual reviews. "
      ]
    },
    {
      "cell_type": "code",
      "metadata": {
        "id": "naT_Y9hmYngX",
        "colab_type": "code",
        "colab": {}
      },
      "source": [
        "reviews_dict = corpora.Dictionary.load(\"reviews.dict\")\n",
        "reviews_bow = corpora.MmCorpus('train_reviews.mm')\n",
        "reviews_times  = np.load('train_times.npy')\n",
        "reviews_times.shape = (len(reviews_bow),1)\n",
        "y = np.vstack((np.repeat(1, 4000), np.repeat(2, 4000), np.repeat(3, 4000), np.repeat(4, 4000), np.repeat(5, 4000)))\n",
        "y = np.repeat(y, 5)"
      ],
      "execution_count": 0,
      "outputs": []
    },
    {
      "cell_type": "markdown",
      "metadata": {
        "id": "la-Nkci1_ouF",
        "colab_type": "text"
      },
      "source": [
        "2.3 \n",
        "\n",
        "Now that we have all the required data, we need to write a few helper funtions which will give us the data in the format that is required for our analysis."
      ]
    },
    {
      "cell_type": "markdown",
      "metadata": {
        "id": "fRUcyIGlTCuq",
        "colab_type": "text"
      },
      "source": [
        "1st Helper Function \"lookup_docs\"- Returns a document given an index and corpus\n",
        "\n",
        "The gensim library represents everything in a sparse way. It optimizes space by not reading large amounts of data through memory but rather through the user's pipeline. Due to these optamization techniques, it is not possible to directly access the dataset by index. However, that is such a useful feature and would be used time and again to get the actual words from the dataset. Hence the next function (lookup_docs) implements accessing a corpus by index and returning the corresponding text.\n"
      ]
    },
    {
      "cell_type": "code",
      "metadata": {
        "id": "UY9g8LWMYqZE",
        "colab_type": "code",
        "colab": {}
      },
      "source": [
        "def lookup_docs(corpus, indices):  \n",
        "    docs=[]\n",
        "    for index,value in enumerate(corpus):\n",
        "      if index in indices:\n",
        "        docs.append(value)\n",
        "    return docs"
      ],
      "execution_count": 0,
      "outputs": []
    },
    {
      "cell_type": "code",
      "metadata": {
        "id": "Aak_3GRaBEvY",
        "colab_type": "code",
        "outputId": "4be45a7f-2199-43d8-ca41-29e56134f76f",
        "colab": {
          "base_uri": "https://localhost:8080/",
          "height": 55
        }
      },
      "source": [
        "print(lookup_docs(reviews_bow,[0]))"
      ],
      "execution_count": 0,
      "outputs": [
        {
          "output_type": "stream",
          "text": [
            "[[(0, 1.0), (1, 1.0), (2, 1.0), (3, 2.0), (4, 1.0), (5, 1.0), (6, 5.0), (7, 1.0), (8, 1.0), (9, 1.0), (10, 1.0), (11, 1.0), (12, 3.0), (13, 1.0), (14, 2.0), (15, 1.0), (16, 1.0), (17, 1.0), (18, 1.0), (19, 1.0), (20, 1.0), (21, 1.0), (22, 1.0), (23, 1.0), (24, 4.0), (25, 1.0), (26, 2.0), (27, 1.0), (28, 1.0), (29, 2.0), (30, 1.0), (31, 1.0), (32, 1.0), (33, 1.0), (34, 1.0), (35, 1.0), (36, 1.0), (37, 1.0), (38, 1.0), (39, 1.0), (40, 1.0), (41, 1.0), (42, 1.0), (43, 1.0), (44, 2.0), (45, 1.0), (46, 2.0), (47, 1.0), (48, 1.0), (49, 1.0), (50, 1.0), (51, 1.0), (52, 1.0), (53, 1.0), (54, 1.0), (55, 2.0)]]\n"
          ],
          "name": "stdout"
        }
      ]
    },
    {
      "cell_type": "markdown",
      "metadata": {
        "id": "xTh0XBKDU6kk",
        "colab_type": "text"
      },
      "source": [
        "From the \"lookup_docs\" function, we see how documents are represented in a gensim corpus. In each review, gensim stores a tuple of size 2 for each distinct word in the review. The first number in the tuple is the index of the word in the dictionary and the second number in the tuple is the count of the times that word appeared in that review."
      ]
    },
    {
      "cell_type": "markdown",
      "metadata": {
        "id": "r3PJIQ0sVIzd",
        "colab_type": "text"
      },
      "source": [
        "Now that we have the gensim bag of words document and its corresponding dictionary. We can find the actual text that is represented by the bag of words. "
      ]
    },
    {
      "cell_type": "markdown",
      "metadata": {
        "id": "UJ_2re9RBquX",
        "colab_type": "text"
      },
      "source": [
        "2nd Helper Function \"translate_review\"- Returns the actual english words corresponding to gensim bag of words.\n"
      ]
    },
    {
      "cell_type": "code",
      "metadata": {
        "id": "5LFHD9DvYxCx",
        "colab_type": "code",
        "colab": {}
      },
      "source": [
        "def translate_review(review, reviews_dict):\n",
        "    result=[]\n",
        "    for i in review:\n",
        "      result.append((reviews_dict[i[0]]+ \" \") * int(i[1]))\n",
        "    result=''.join(result)\n",
        "    return result"
      ],
      "execution_count": 0,
      "outputs": []
    },
    {
      "cell_type": "markdown",
      "metadata": {
        "id": "IqU4yDviWQ8O",
        "colab_type": "text"
      },
      "source": [
        "All of these helper functions are written to create a pandas dataframe which will be used by the machine learning algorithm to predict the star reviews.\n",
        "\n",
        "The size of the dummy pandas dataframe is stored in the variable defined below (\"df_size\"). \n",
        "\n",
        "Note: Running some of these functions are computionally very heavy and hence we have limited the size of the dataframe to **10** records. The dataframe generated by running the next section is meant only to show how the helper functions were used to create the dataframe. \n",
        "\n",
        "**The actual dataframe consisting of 100,000 records was already installed at the start of this notebook. (Filename: Final_DataSet-545.csv)**\n",
        "\n",
        "The next few steps are only for the purposes of creating the dummy dataframe"
      ]
    },
    {
      "cell_type": "code",
      "metadata": {
        "id": "Wur0xDe3A83_",
        "colab_type": "code",
        "colab": {}
      },
      "source": [
        "# setting the size of the dummy dataframe\n",
        "df_size=np.arange(0,10)\n",
        "df_size=list(df_size)"
      ],
      "execution_count": 0,
      "outputs": []
    },
    {
      "cell_type": "markdown",
      "metadata": {
        "id": "_OHJFs4BCFTm",
        "colab_type": "text"
      },
      "source": [
        "Here, we use the previous functions to read the gensim bag of words-> get the translated review and finally store it as a tuple corresponding to the translated review and the index of that review in the corpus."
      ]
    },
    {
      "cell_type": "code",
      "metadata": {
        "id": "lMcjRNLsZc00",
        "colab_type": "code",
        "outputId": "d8e1b7c8-4137-4d2f-c9ed-987814a6e186",
        "colab": {
          "base_uri": "https://localhost:8080/",
          "height": 195
        }
      },
      "source": [
        "translated_reviews=[]\n",
        "bag_of_words=[]\n",
        "for i, value in enumerate(df_size):\n",
        "  print(\"Currently Processing Review Number:\",value+1)\n",
        "  lookup_review= lookup_docs(reviews_bow, [value])\n",
        "  bag_of_words.append(lookup_review)\n",
        "  temp = translate_review(lookup_review[0],reviews_dict)\n",
        "  translated_reviews.append((i,temp))"
      ],
      "execution_count": 0,
      "outputs": [
        {
          "output_type": "stream",
          "text": [
            "Currently Processing Review Number: 1\n",
            "Currently Processing Review Number: 2\n",
            "Currently Processing Review Number: 3\n",
            "Currently Processing Review Number: 4\n",
            "Currently Processing Review Number: 5\n",
            "Currently Processing Review Number: 6\n",
            "Currently Processing Review Number: 7\n",
            "Currently Processing Review Number: 8\n",
            "Currently Processing Review Number: 9\n",
            "Currently Processing Review Number: 10\n"
          ],
          "name": "stdout"
        }
      ]
    },
    {
      "cell_type": "markdown",
      "metadata": {
        "id": "jhWVFAUyW3fl",
        "colab_type": "text"
      },
      "source": [
        "We finally venture into creating our first basic Pandas Dataframe which will just contain the translated review (obtained from the Gensim BoW) and the star rating associated with that review. \n",
        "\n",
        "Run the cell below to see the pandas dataframe"
      ]
    },
    {
      "cell_type": "code",
      "metadata": {
        "id": "vXimA1SWcrfO",
        "colab_type": "code",
        "outputId": "18f2e04c-0e14-4523-db9f-8ee9786a5fbd",
        "colab": {
          "base_uri": "https://localhost:8080/",
          "height": 340
        }
      },
      "source": [
        "first_index= df_size[0]\n",
        "last_index = df_size[-1]\n",
        "\n",
        "#creating a list of only 'df_size' number of reviews\n",
        "y_temp = y[first_index: last_index+1]\n",
        "\n",
        "df = pd.DataFrame(translated_reviews,y_temp) \n",
        "df= df.reset_index()\n",
        "df = df.drop(columns=0)\n",
        "df =  df.rename(columns={\"index\": \"Ratings\", 1: \"Review\"})\n",
        "cols = df.columns.tolist()\n",
        "cols = cols[-1:] + cols[:-1]\n",
        "df = df[cols]\n",
        "\n",
        "display(df)"
      ],
      "execution_count": 0,
      "outputs": [
        {
          "output_type": "display_data",
          "data": {
            "text/html": [
              "<div>\n",
              "<style scoped>\n",
              "    .dataframe tbody tr th:only-of-type {\n",
              "        vertical-align: middle;\n",
              "    }\n",
              "\n",
              "    .dataframe tbody tr th {\n",
              "        vertical-align: top;\n",
              "    }\n",
              "\n",
              "    .dataframe thead th {\n",
              "        text-align: right;\n",
              "    }\n",
              "</style>\n",
              "<table border=\"1\" class=\"dataframe\">\n",
              "  <thead>\n",
              "    <tr style=\"text-align: right;\">\n",
              "      <th></th>\n",
              "      <th>Review</th>\n",
              "      <th>Ratings</th>\n",
              "    </tr>\n",
              "  </thead>\n",
              "  <tbody>\n",
              "    <tr>\n",
              "      <th>0</th>\n",
              "      <td>abl aggress also apart apart aussi away ball b...</td>\n",
              "      <td>1</td>\n",
              "    </tr>\n",
              "    <tr>\n",
              "      <th>1</th>\n",
              "      <td>bark bark bark clean day dish dish dog dump fi...</td>\n",
              "      <td>1</td>\n",
              "    </tr>\n",
              "    <tr>\n",
              "      <th>2</th>\n",
              "      <td>better disappoint money think wast absorb abso...</td>\n",
              "      <td>1</td>\n",
              "    </tr>\n",
              "    <tr>\n",
              "      <th>3</th>\n",
              "      <td>just will full next one price add anyth bottl ...</td>\n",
              "      <td>1</td>\n",
              "    </tr>\n",
              "    <tr>\n",
              "      <th>4</th>\n",
              "      <td>left now either go goe light light nowher plu ...</td>\n",
              "      <td>1</td>\n",
              "    </tr>\n",
              "    <tr>\n",
              "      <th>5</th>\n",
              "      <td>just littl day day use bought problem now time...</td>\n",
              "      <td>1</td>\n",
              "    </tr>\n",
              "    <tr>\n",
              "      <th>6</th>\n",
              "      <td>ball larg lb terrier dog dog within boston che...</td>\n",
              "      <td>1</td>\n",
              "    </tr>\n",
              "    <tr>\n",
              "      <th>7</th>\n",
              "      <td>better come come tri will will replac return r...</td>\n",
              "      <td>1</td>\n",
              "    </tr>\n",
              "    <tr>\n",
              "      <th>8</th>\n",
              "      <td>come hard tri dog break care kick leg near</td>\n",
              "      <td>1</td>\n",
              "    </tr>\n",
              "    <tr>\n",
              "      <th>9</th>\n",
              "      <td>tri will dog return use use use bought bought ...</td>\n",
              "      <td>1</td>\n",
              "    </tr>\n",
              "  </tbody>\n",
              "</table>\n",
              "</div>"
            ],
            "text/plain": [
              "                                              Review  Ratings\n",
              "0  abl aggress also apart apart aussi away ball b...        1\n",
              "1  bark bark bark clean day dish dish dog dump fi...        1\n",
              "2  better disappoint money think wast absorb abso...        1\n",
              "3  just will full next one price add anyth bottl ...        1\n",
              "4  left now either go goe light light nowher plu ...        1\n",
              "5  just littl day day use bought problem now time...        1\n",
              "6  ball larg lb terrier dog dog within boston che...        1\n",
              "7  better come come tri will will replac return r...        1\n",
              "8        come hard tri dog break care kick leg near         1\n",
              "9  tri will dog return use use use bought bought ...        1"
            ]
          },
          "metadata": {
            "tags": []
          }
        }
      ]
    },
    {
      "cell_type": "markdown",
      "metadata": {
        "id": "lIn-tBU_gxUV",
        "colab_type": "text"
      },
      "source": [
        "**3. Feature Extraction**\n",
        "\n",
        "In this section we are going to try and create features from the information that we already have. These features might help us make better predictions!"
      ]
    },
    {
      "cell_type": "markdown",
      "metadata": {
        "id": "zdLznNGDhCC9",
        "colab_type": "text"
      },
      "source": [
        "3.1 Sentiment Analysis of the review"
      ]
    },
    {
      "cell_type": "markdown",
      "metadata": {
        "id": "OLErD-lC3Gpv",
        "colab_type": "text"
      },
      "source": [
        "The first feature we are going to generate is getting the overall postive/neutral/negative sentiment of the review. The sentiment of the review should have a high correlation with the star rating.\n",
        "The intuition to generate this feature is fairly obvious. It is logical for us to assume that a 1 star review will contain more negative words and hence have a more overall negative sentiment than a 5 star review.  \n",
        "\n",
        "Our basic objective in the next function is to use the NLTK SentimentIntensityAnalyzer to predict what is the probability of the review being Positive/Neutral/Negative. It is very important to note that since our reviews are **not in order** we will lose considerable amount of meaning from the review. \n",
        "\n",
        "Consider the following sentence: \"The bag of chips was not great\". If any human reads this sentence they will come to the conculsion that the chips was probably not very good. Here the word \"great\" (which is usually a positive word) is preceded with a \"not\" and hence this \"not\" makes the positive word \"great\" to a negative word. A computer might to be able to come to a similar conclusion if it reads the same sentence. \n",
        "\n",
        "Now, suppose if I change the sentence to \"Chips great the bag of not was \". Now if I ask you to infer the meaning of this sentence you might rearrange it to the original form and conclude that the chips was not great. But if I ask someone else (maybe someone who's first language is not English) to read the sentence they might read the sentence and infer that the chips was good but the \"bag\" that the chips came in was bad. (It's simple enough isn't it? \"Great\" is next to chips so the chips is great and \"not\" is next to bag so the bag is probably \"not great\")\n",
        "\n",
        "This is the kind of subtlety that we humans can understand but a machine probably can't (Atleast not right now...I hope). \n",
        "\n",
        "The jist of the above example is that when words are placed out of order (which is what a bag of words does) then the sentence loses a lot of meaning. Hence we may occasionally see a poor review having a higher positive sentiment than a negative sentiment. \n",
        "\n",
        "We will store each of the three sentiments in a list and later create pandas features from these lists."
      ]
    },
    {
      "cell_type": "code",
      "metadata": {
        "id": "sVnVokcleEVP",
        "colab_type": "code",
        "colab": {}
      },
      "source": [
        "sid = nltk.sentiment.vader.SentimentIntensityAnalyzer()\n",
        "\n",
        "#storting the sentiment scores of postive/neutral/negative sentiments in lists\n",
        "pos_word_score=[]\n",
        "neu_word_score=[]\n",
        "neg_word_score=[]\n",
        "\n",
        "for i, word in enumerate(translated_reviews):\n",
        "\n",
        "    temp= sid.polarity_scores(word[1])\n",
        "    pos_word_score.append(temp['pos'])\n",
        "    neu_word_score.append(temp['neu'])\n",
        "    neg_word_score.append(temp['neg']) "
      ],
      "execution_count": 0,
      "outputs": []
    },
    {
      "cell_type": "code",
      "metadata": {
        "id": "8WqjGXcFlfrH",
        "colab_type": "code",
        "outputId": "4fed0775-0cbe-4aa8-b09e-e693ad354c20",
        "colab": {
          "base_uri": "https://localhost:8080/",
          "height": 340
        }
      },
      "source": [
        "# Adding new features to our dataframe corresponding to the sentiment analysis that we performed in the previous cell\n",
        "\n",
        "df['Positive_Sentiment'] =pos_word_score\n",
        "df['Neutral_Sentiment'] =neu_word_score\n",
        "df['Negative_Sentiment'] =neg_word_score\n",
        "display(df)"
      ],
      "execution_count": 0,
      "outputs": [
        {
          "output_type": "display_data",
          "data": {
            "text/html": [
              "<div>\n",
              "<style scoped>\n",
              "    .dataframe tbody tr th:only-of-type {\n",
              "        vertical-align: middle;\n",
              "    }\n",
              "\n",
              "    .dataframe tbody tr th {\n",
              "        vertical-align: top;\n",
              "    }\n",
              "\n",
              "    .dataframe thead th {\n",
              "        text-align: right;\n",
              "    }\n",
              "</style>\n",
              "<table border=\"1\" class=\"dataframe\">\n",
              "  <thead>\n",
              "    <tr style=\"text-align: right;\">\n",
              "      <th></th>\n",
              "      <th>Review</th>\n",
              "      <th>Ratings</th>\n",
              "      <th>Positive_Sentiment</th>\n",
              "      <th>Neutral_Sentiment</th>\n",
              "      <th>Negative_Sentiment</th>\n",
              "    </tr>\n",
              "  </thead>\n",
              "  <tbody>\n",
              "    <tr>\n",
              "      <th>0</th>\n",
              "      <td>abl aggress also apart apart aussi away ball b...</td>\n",
              "      <td>1</td>\n",
              "      <td>0.160</td>\n",
              "      <td>0.690</td>\n",
              "      <td>0.149</td>\n",
              "    </tr>\n",
              "    <tr>\n",
              "      <th>1</th>\n",
              "      <td>bark bark bark clean day dish dish dog dump fi...</td>\n",
              "      <td>1</td>\n",
              "      <td>0.116</td>\n",
              "      <td>0.756</td>\n",
              "      <td>0.128</td>\n",
              "    </tr>\n",
              "    <tr>\n",
              "      <th>2</th>\n",
              "      <td>better disappoint money think wast absorb abso...</td>\n",
              "      <td>1</td>\n",
              "      <td>0.239</td>\n",
              "      <td>0.527</td>\n",
              "      <td>0.234</td>\n",
              "    </tr>\n",
              "    <tr>\n",
              "      <th>3</th>\n",
              "      <td>just will full next one price add anyth bottl ...</td>\n",
              "      <td>1</td>\n",
              "      <td>0.000</td>\n",
              "      <td>0.881</td>\n",
              "      <td>0.119</td>\n",
              "    </tr>\n",
              "    <tr>\n",
              "      <th>4</th>\n",
              "      <td>left now either go goe light light nowher plu ...</td>\n",
              "      <td>1</td>\n",
              "      <td>0.119</td>\n",
              "      <td>0.881</td>\n",
              "      <td>0.000</td>\n",
              "    </tr>\n",
              "    <tr>\n",
              "      <th>5</th>\n",
              "      <td>just littl day day use bought problem now time...</td>\n",
              "      <td>1</td>\n",
              "      <td>0.080</td>\n",
              "      <td>0.717</td>\n",
              "      <td>0.203</td>\n",
              "    </tr>\n",
              "    <tr>\n",
              "      <th>6</th>\n",
              "      <td>ball larg lb terrier dog dog within boston che...</td>\n",
              "      <td>1</td>\n",
              "      <td>0.073</td>\n",
              "      <td>0.927</td>\n",
              "      <td>0.000</td>\n",
              "    </tr>\n",
              "    <tr>\n",
              "      <th>7</th>\n",
              "      <td>better come come tri will will replac return r...</td>\n",
              "      <td>1</td>\n",
              "      <td>0.116</td>\n",
              "      <td>0.849</td>\n",
              "      <td>0.035</td>\n",
              "    </tr>\n",
              "    <tr>\n",
              "      <th>8</th>\n",
              "      <td>come hard tri dog break care kick leg near</td>\n",
              "      <td>1</td>\n",
              "      <td>0.276</td>\n",
              "      <td>0.603</td>\n",
              "      <td>0.121</td>\n",
              "    </tr>\n",
              "    <tr>\n",
              "      <th>9</th>\n",
              "      <td>tri will dog return use use use bought bought ...</td>\n",
              "      <td>1</td>\n",
              "      <td>0.118</td>\n",
              "      <td>0.882</td>\n",
              "      <td>0.000</td>\n",
              "    </tr>\n",
              "  </tbody>\n",
              "</table>\n",
              "</div>"
            ],
            "text/plain": [
              "                                              Review  ...  Negative_Sentiment\n",
              "0  abl aggress also apart apart aussi away ball b...  ...               0.149\n",
              "1  bark bark bark clean day dish dish dog dump fi...  ...               0.128\n",
              "2  better disappoint money think wast absorb abso...  ...               0.234\n",
              "3  just will full next one price add anyth bottl ...  ...               0.119\n",
              "4  left now either go goe light light nowher plu ...  ...               0.000\n",
              "5  just littl day day use bought problem now time...  ...               0.203\n",
              "6  ball larg lb terrier dog dog within boston che...  ...               0.000\n",
              "7  better come come tri will will replac return r...  ...               0.035\n",
              "8        come hard tri dog break care kick leg near   ...               0.121\n",
              "9  tri will dog return use use use bought bought ...  ...               0.000\n",
              "\n",
              "[10 rows x 5 columns]"
            ]
          },
          "metadata": {
            "tags": []
          }
        }
      ]
    },
    {
      "cell_type": "markdown",
      "metadata": {
        "id": "av9Gu3LM6aAV",
        "colab_type": "text"
      },
      "source": [
        "3.2 Review Length\n",
        "\n",
        "We are now going to make some claims (i.e. create some hypothesis) in this section and the next and later on (Section 4) we will analyze whether those claims were correct or not."
      ]
    },
    {
      "cell_type": "markdown",
      "metadata": {
        "id": "e-hcXqhQgo1l",
        "colab_type": "text"
      },
      "source": [
        "My first assumption is that people give very long reviews when they are experiencing extreme emotions. Assume for a moment that I am right in my assumption, that when someone is overly expressive, they are experiencing extremes of emotions (either they are really happy or really angry). We try to put this hypothesis to the test by claiming that whenever people are really happy/sad with a product they will write a longer review. Hence, we expect the average length of the review for 1 and 5 star ratings to be the longest and star rating 3 to be the shortest. "
      ]
    },
    {
      "cell_type": "code",
      "metadata": {
        "id": "L3bswGVrpcSD",
        "colab_type": "code",
        "outputId": "ec085e0f-7a1d-4227-d8ad-507a2ea0767c",
        "colab": {
          "base_uri": "https://localhost:8080/",
          "height": 340
        }
      },
      "source": [
        "length_of_review=[]\n",
        "\n",
        "# code to iterate through the reviews and count the length of each review and it's corresponding star rating\n",
        "for i, word in enumerate(translated_reviews):\n",
        "\n",
        "    word_length = len(word[1])\n",
        "    length_of_review.append(word_length)\n",
        "\n",
        "df['Review_Length'] =length_of_review\n",
        "display(df)       "
      ],
      "execution_count": 0,
      "outputs": [
        {
          "output_type": "display_data",
          "data": {
            "text/html": [
              "<div>\n",
              "<style scoped>\n",
              "    .dataframe tbody tr th:only-of-type {\n",
              "        vertical-align: middle;\n",
              "    }\n",
              "\n",
              "    .dataframe tbody tr th {\n",
              "        vertical-align: top;\n",
              "    }\n",
              "\n",
              "    .dataframe thead th {\n",
              "        text-align: right;\n",
              "    }\n",
              "</style>\n",
              "<table border=\"1\" class=\"dataframe\">\n",
              "  <thead>\n",
              "    <tr style=\"text-align: right;\">\n",
              "      <th></th>\n",
              "      <th>Review</th>\n",
              "      <th>Ratings</th>\n",
              "      <th>Positive_Sentiment</th>\n",
              "      <th>Neutral_Sentiment</th>\n",
              "      <th>Negative_Sentiment</th>\n",
              "      <th>Review_Length</th>\n",
              "    </tr>\n",
              "  </thead>\n",
              "  <tbody>\n",
              "    <tr>\n",
              "      <th>0</th>\n",
              "      <td>abl aggress also apart apart aussi away ball b...</td>\n",
              "      <td>1</td>\n",
              "      <td>0.160</td>\n",
              "      <td>0.690</td>\n",
              "      <td>0.149</td>\n",
              "      <td>415</td>\n",
              "    </tr>\n",
              "    <tr>\n",
              "      <th>1</th>\n",
              "      <td>bark bark bark clean day dish dish dog dump fi...</td>\n",
              "      <td>1</td>\n",
              "      <td>0.116</td>\n",
              "      <td>0.756</td>\n",
              "      <td>0.128</td>\n",
              "      <td>195</td>\n",
              "    </tr>\n",
              "    <tr>\n",
              "      <th>2</th>\n",
              "      <td>better disappoint money think wast absorb abso...</td>\n",
              "      <td>1</td>\n",
              "      <td>0.239</td>\n",
              "      <td>0.527</td>\n",
              "      <td>0.234</td>\n",
              "      <td>334</td>\n",
              "    </tr>\n",
              "    <tr>\n",
              "      <th>3</th>\n",
              "      <td>just will full next one price add anyth bottl ...</td>\n",
              "      <td>1</td>\n",
              "      <td>0.000</td>\n",
              "      <td>0.881</td>\n",
              "      <td>0.119</td>\n",
              "      <td>157</td>\n",
              "    </tr>\n",
              "    <tr>\n",
              "      <th>4</th>\n",
              "      <td>left now either go goe light light nowher plu ...</td>\n",
              "      <td>1</td>\n",
              "      <td>0.119</td>\n",
              "      <td>0.881</td>\n",
              "      <td>0.000</td>\n",
              "      <td>82</td>\n",
              "    </tr>\n",
              "    <tr>\n",
              "      <th>5</th>\n",
              "      <td>just littl day day use bought problem now time...</td>\n",
              "      <td>1</td>\n",
              "      <td>0.080</td>\n",
              "      <td>0.717</td>\n",
              "      <td>0.203</td>\n",
              "      <td>232</td>\n",
              "    </tr>\n",
              "    <tr>\n",
              "      <th>6</th>\n",
              "      <td>ball larg lb terrier dog dog within boston che...</td>\n",
              "      <td>1</td>\n",
              "      <td>0.073</td>\n",
              "      <td>0.927</td>\n",
              "      <td>0.000</td>\n",
              "      <td>79</td>\n",
              "    </tr>\n",
              "    <tr>\n",
              "      <th>7</th>\n",
              "      <td>better come come tri will will replac return r...</td>\n",
              "      <td>1</td>\n",
              "      <td>0.116</td>\n",
              "      <td>0.849</td>\n",
              "      <td>0.035</td>\n",
              "      <td>568</td>\n",
              "    </tr>\n",
              "    <tr>\n",
              "      <th>8</th>\n",
              "      <td>come hard tri dog break care kick leg near</td>\n",
              "      <td>1</td>\n",
              "      <td>0.276</td>\n",
              "      <td>0.603</td>\n",
              "      <td>0.121</td>\n",
              "      <td>43</td>\n",
              "    </tr>\n",
              "    <tr>\n",
              "      <th>9</th>\n",
              "      <td>tri will dog return use use use bought bought ...</td>\n",
              "      <td>1</td>\n",
              "      <td>0.118</td>\n",
              "      <td>0.882</td>\n",
              "      <td>0.000</td>\n",
              "      <td>235</td>\n",
              "    </tr>\n",
              "  </tbody>\n",
              "</table>\n",
              "</div>"
            ],
            "text/plain": [
              "                                              Review  ...  Review_Length\n",
              "0  abl aggress also apart apart aussi away ball b...  ...            415\n",
              "1  bark bark bark clean day dish dish dog dump fi...  ...            195\n",
              "2  better disappoint money think wast absorb abso...  ...            334\n",
              "3  just will full next one price add anyth bottl ...  ...            157\n",
              "4  left now either go goe light light nowher plu ...  ...             82\n",
              "5  just littl day day use bought problem now time...  ...            232\n",
              "6  ball larg lb terrier dog dog within boston che...  ...             79\n",
              "7  better come come tri will will replac return r...  ...            568\n",
              "8        come hard tri dog break care kick leg near   ...             43\n",
              "9  tri will dog return use use use bought bought ...  ...            235\n",
              "\n",
              "[10 rows x 6 columns]"
            ]
          },
          "metadata": {
            "tags": []
          }
        }
      ]
    },
    {
      "cell_type": "markdown",
      "metadata": {
        "id": "ChIvyeHI8SQx",
        "colab_type": "text"
      },
      "source": [
        "3.3 Time of the Review\n",
        "\n",
        "My next claim is that people become very happy around the holidays (Christmas, Thanksgiving, 4th of July...Valentine's Day?) and the happiness rubs off on them and they tend to become a tad nicer to the Amazon Seller who tried to ripped them off. If this is true, then there must be a spike in the average star reviews around the time of the holidays. We will check later on if this claim is true...\n",
        "\n",
        "To carry out this experiment, we first need to extract the actual date of the review from the \"review_times\" array and then find the average star ratings during the holiday season to see if people are truly happy during the holidays.\n",
        "\n",
        "Note: We currently have the date stored as a timestamp and not in the date format familiar to us (i.e. YYYY-MM-DD). Hence, we will first convert the timestamp to human readable date format and then check if that date falls in the holiday season or not."
      ]
    },
    {
      "cell_type": "code",
      "metadata": {
        "id": "XLwTkXJt6oYp",
        "colab_type": "code",
        "colab": {}
      },
      "source": [
        "def convert_times(reviews_times):\n",
        "    # Iterating through reviews_time list and converting the timestamp to actual date of the format YYYY-MM-DD\n",
        "    result=[]\n",
        "    for i in reviews_times:\n",
        "          date = datetime.fromtimestamp(i)\n",
        "          result.append(date)\n",
        "    return result"
      ],
      "execution_count": 0,
      "outputs": []
    },
    {
      "cell_type": "markdown",
      "metadata": {
        "id": "zdPW8fxgi0Tu",
        "colab_type": "text"
      },
      "source": [
        "3.4 Holiday Season\n",
        "\n",
        "Now that we have the date in the approriate format, we will check and see if someone has bought a product during the holiday season or not (if they have then we will set the feature 'Holiday_Season' to True for that review).\n",
        "\n",
        "We have taken 3 holiday periods for our analysis: \n",
        "\n",
        "\n",
        "1.   Valentine's Day + President's Day week  (10th February- 22nd February)\n",
        "2.   4th of July week (3rd July- 7th July)\n",
        "2.   Thanksgiving week + Entire month of December + 1st week of the New Year  (23rd November- 7th January)\n",
        "\n",
        "\n",
        "\n"
      ]
    },
    {
      "cell_type": "code",
      "metadata": {
        "id": "f1a1S45h7Lrt",
        "colab_type": "code",
        "outputId": "0dac32c4-70a5-43d2-fd07-590cdfd475a5",
        "colab": {
          "base_uri": "https://localhost:8080/",
          "height": 340
        }
      },
      "source": [
        "holiday_season = convert_times(reviews_times)\n",
        "df['Date_of_Review'] = holiday_season[first_index : last_index +1]\n",
        "\n",
        "# if a date falls in any of the above mentioned holiday periods then feature \"Holiday_Season\" will be set to TRUE\n",
        "df.loc[df.Date_of_Review.between('2002-02-10', '2002-02-22') | df.Date_of_Review.between('2002-07-03', '2002-07-07') | df.Date_of_Review.between('2002-11-24', '2003-01-07'),'Holiday_Season'] =True\n",
        "df.loc[df.Date_of_Review.between('2003-02-10', '2003-02-22') | df.Date_of_Review.between('2003-07-03', '2003-07-07') | df.Date_of_Review.between('2003-11-24', '2004-01-07'),'Holiday_Season'] =True\n",
        "df.loc[df.Date_of_Review.between('2004-02-10', '2004-02-22') | df.Date_of_Review.between('2004-07-03', '2004-07-07') | df.Date_of_Review.between('2004-11-24', '2005-01-07'),'Holiday_Season'] =True\n",
        "df.loc[df.Date_of_Review.between('2005-02-10', '2005-02-22') | df.Date_of_Review.between('2005-07-03', '2005-07-07') | df.Date_of_Review.between('2005-11-24', '2006-01-07'),'Holiday_Season'] =True\n",
        "df.loc[df.Date_of_Review.between('2006-02-10', '2006-02-22') | df.Date_of_Review.between('2006-07-03', '2006-07-07') | df.Date_of_Review.between('2006-11-24', '2007-01-07'),'Holiday_Season'] =True\n",
        "df.loc[df.Date_of_Review.between('2007-02-10', '2007-02-22') | df.Date_of_Review.between('2007-07-03', '2007-07-07') | df.Date_of_Review.between('2007-11-24', '2008-01-07'),'Holiday_Season'] =True\n",
        "df.loc[df.Date_of_Review.between('2008-02-10', '2008-02-22') | df.Date_of_Review.between('2008-07-03', '2008-07-07') | df.Date_of_Review.between('2008-11-24', '2009-01-07'),'Holiday_Season'] =True\n",
        "df.loc[df.Date_of_Review.between('2009-02-10', '2009-02-22') | df.Date_of_Review.between('2009-07-03', '2009-07-07') | df.Date_of_Review.between('2009-11-24', '2010-01-07'),'Holiday_Season'] =True\n",
        "df.loc[df.Date_of_Review.between('2010-02-10', '2010-02-22') | df.Date_of_Review.between('2010-07-03', '2010-07-07') | df.Date_of_Review.between('2010-11-24', '2011-01-07'),'Holiday_Season'] =True\n",
        "df.loc[df.Date_of_Review.between('2011-02-10', '2011-02-22') | df.Date_of_Review.between('2011-07-03', '2011-07-07') | df.Date_of_Review.between('2011-11-24', '2012-01-07'),'Holiday_Season'] =True\n",
        "df.loc[df.Date_of_Review.between('2012-02-10', '2012-02-22') | df.Date_of_Review.between('2012-07-03', '2012-07-07') | df.Date_of_Review.between('2012-11-24', '2013-01-07'),'Holiday_Season'] =True\n",
        "df.loc[df.Date_of_Review.between('2013-02-10', '2013-02-22') | df.Date_of_Review.between('2013-07-03', '2013-07-07') | df.Date_of_Review.between('2013-11-24', '2014-01-07'),'Holiday_Season'] =True\n",
        "df.loc[df.Date_of_Review.between('2014-02-10', '2014-02-22') | df.Date_of_Review.between('2014-07-03', '2014-07-07') | df.Date_of_Review.between('2014-11-24', '2015-01-07'),'Holiday_Season'] =True\n",
        "\n",
        "df['Holiday_Season']=df['Holiday_Season'].fillna('False')\n",
        "display(df)"
      ],
      "execution_count": 0,
      "outputs": [
        {
          "output_type": "display_data",
          "data": {
            "text/html": [
              "<div>\n",
              "<style scoped>\n",
              "    .dataframe tbody tr th:only-of-type {\n",
              "        vertical-align: middle;\n",
              "    }\n",
              "\n",
              "    .dataframe tbody tr th {\n",
              "        vertical-align: top;\n",
              "    }\n",
              "\n",
              "    .dataframe thead th {\n",
              "        text-align: right;\n",
              "    }\n",
              "</style>\n",
              "<table border=\"1\" class=\"dataframe\">\n",
              "  <thead>\n",
              "    <tr style=\"text-align: right;\">\n",
              "      <th></th>\n",
              "      <th>Review</th>\n",
              "      <th>Ratings</th>\n",
              "      <th>Positive_Sentiment</th>\n",
              "      <th>Neutral_Sentiment</th>\n",
              "      <th>Negative_Sentiment</th>\n",
              "      <th>Review_Length</th>\n",
              "      <th>Date_of_Review</th>\n",
              "      <th>Holiday_Season</th>\n",
              "    </tr>\n",
              "  </thead>\n",
              "  <tbody>\n",
              "    <tr>\n",
              "      <th>0</th>\n",
              "      <td>abl aggress also apart apart aussi away ball b...</td>\n",
              "      <td>1</td>\n",
              "      <td>0.160</td>\n",
              "      <td>0.690</td>\n",
              "      <td>0.149</td>\n",
              "      <td>415</td>\n",
              "      <td>2012-05-06</td>\n",
              "      <td>False</td>\n",
              "    </tr>\n",
              "    <tr>\n",
              "      <th>1</th>\n",
              "      <td>bark bark bark clean day dish dish dog dump fi...</td>\n",
              "      <td>1</td>\n",
              "      <td>0.116</td>\n",
              "      <td>0.756</td>\n",
              "      <td>0.128</td>\n",
              "      <td>195</td>\n",
              "      <td>2014-04-07</td>\n",
              "      <td>False</td>\n",
              "    </tr>\n",
              "    <tr>\n",
              "      <th>2</th>\n",
              "      <td>better disappoint money think wast absorb abso...</td>\n",
              "      <td>1</td>\n",
              "      <td>0.239</td>\n",
              "      <td>0.527</td>\n",
              "      <td>0.234</td>\n",
              "      <td>334</td>\n",
              "      <td>2012-07-17</td>\n",
              "      <td>False</td>\n",
              "    </tr>\n",
              "    <tr>\n",
              "      <th>3</th>\n",
              "      <td>just will full next one price add anyth bottl ...</td>\n",
              "      <td>1</td>\n",
              "      <td>0.000</td>\n",
              "      <td>0.881</td>\n",
              "      <td>0.119</td>\n",
              "      <td>157</td>\n",
              "      <td>2014-07-14</td>\n",
              "      <td>False</td>\n",
              "    </tr>\n",
              "    <tr>\n",
              "      <th>4</th>\n",
              "      <td>left now either go goe light light nowher plu ...</td>\n",
              "      <td>1</td>\n",
              "      <td>0.119</td>\n",
              "      <td>0.881</td>\n",
              "      <td>0.000</td>\n",
              "      <td>82</td>\n",
              "      <td>2013-05-16</td>\n",
              "      <td>False</td>\n",
              "    </tr>\n",
              "    <tr>\n",
              "      <th>5</th>\n",
              "      <td>just littl day day use bought problem now time...</td>\n",
              "      <td>1</td>\n",
              "      <td>0.080</td>\n",
              "      <td>0.717</td>\n",
              "      <td>0.203</td>\n",
              "      <td>232</td>\n",
              "      <td>2013-06-17</td>\n",
              "      <td>False</td>\n",
              "    </tr>\n",
              "    <tr>\n",
              "      <th>6</th>\n",
              "      <td>ball larg lb terrier dog dog within boston che...</td>\n",
              "      <td>1</td>\n",
              "      <td>0.073</td>\n",
              "      <td>0.927</td>\n",
              "      <td>0.000</td>\n",
              "      <td>79</td>\n",
              "      <td>2013-10-16</td>\n",
              "      <td>False</td>\n",
              "    </tr>\n",
              "    <tr>\n",
              "      <th>7</th>\n",
              "      <td>better come come tri will will replac return r...</td>\n",
              "      <td>1</td>\n",
              "      <td>0.116</td>\n",
              "      <td>0.849</td>\n",
              "      <td>0.035</td>\n",
              "      <td>568</td>\n",
              "      <td>2012-08-27</td>\n",
              "      <td>False</td>\n",
              "    </tr>\n",
              "    <tr>\n",
              "      <th>8</th>\n",
              "      <td>come hard tri dog break care kick leg near</td>\n",
              "      <td>1</td>\n",
              "      <td>0.276</td>\n",
              "      <td>0.603</td>\n",
              "      <td>0.121</td>\n",
              "      <td>43</td>\n",
              "      <td>2013-10-24</td>\n",
              "      <td>False</td>\n",
              "    </tr>\n",
              "    <tr>\n",
              "      <th>9</th>\n",
              "      <td>tri will dog return use use use bought bought ...</td>\n",
              "      <td>1</td>\n",
              "      <td>0.118</td>\n",
              "      <td>0.882</td>\n",
              "      <td>0.000</td>\n",
              "      <td>235</td>\n",
              "      <td>2014-01-16</td>\n",
              "      <td>False</td>\n",
              "    </tr>\n",
              "  </tbody>\n",
              "</table>\n",
              "</div>"
            ],
            "text/plain": [
              "                                              Review  ...  Holiday_Season\n",
              "0  abl aggress also apart apart aussi away ball b...  ...           False\n",
              "1  bark bark bark clean day dish dish dog dump fi...  ...           False\n",
              "2  better disappoint money think wast absorb abso...  ...           False\n",
              "3  just will full next one price add anyth bottl ...  ...           False\n",
              "4  left now either go goe light light nowher plu ...  ...           False\n",
              "5  just littl day day use bought problem now time...  ...           False\n",
              "6  ball larg lb terrier dog dog within boston che...  ...           False\n",
              "7  better come come tri will will replac return r...  ...           False\n",
              "8        come hard tri dog break care kick leg near   ...           False\n",
              "9  tri will dog return use use use bought bought ...  ...           False\n",
              "\n",
              "[10 rows x 8 columns]"
            ]
          },
          "metadata": {
            "tags": []
          }
        }
      ]
    },
    {
      "cell_type": "markdown",
      "metadata": {
        "id": "0mi_I1QziiPU",
        "colab_type": "text"
      },
      "source": [
        "3.5 Bag of words\n",
        "\n",
        "We had previously generated the Bag of Words of the reviews and we are now appending that feature to that dataset."
      ]
    },
    {
      "cell_type": "code",
      "metadata": {
        "id": "vo-tHU21ioEj",
        "colab_type": "code",
        "colab": {}
      },
      "source": [
        "df['bag_of_words'] = bag_of_words"
      ],
      "execution_count": 0,
      "outputs": []
    },
    {
      "cell_type": "markdown",
      "metadata": {
        "id": "jjgXUjKslOhl",
        "colab_type": "text"
      },
      "source": [
        "**Displaying the final shape of the dataframe. The actual dataset of 100,000 records will have the same shape**"
      ]
    },
    {
      "cell_type": "code",
      "metadata": {
        "id": "668lIqVslPDY",
        "colab_type": "code",
        "outputId": "08623f68-883f-4a25-97ad-af69d4062a55",
        "colab": {
          "base_uri": "https://localhost:8080/",
          "height": 340
        }
      },
      "source": [
        "display(df)"
      ],
      "execution_count": 0,
      "outputs": [
        {
          "output_type": "display_data",
          "data": {
            "text/html": [
              "<div>\n",
              "<style scoped>\n",
              "    .dataframe tbody tr th:only-of-type {\n",
              "        vertical-align: middle;\n",
              "    }\n",
              "\n",
              "    .dataframe tbody tr th {\n",
              "        vertical-align: top;\n",
              "    }\n",
              "\n",
              "    .dataframe thead th {\n",
              "        text-align: right;\n",
              "    }\n",
              "</style>\n",
              "<table border=\"1\" class=\"dataframe\">\n",
              "  <thead>\n",
              "    <tr style=\"text-align: right;\">\n",
              "      <th></th>\n",
              "      <th>Review</th>\n",
              "      <th>Ratings</th>\n",
              "      <th>Positive_Sentiment</th>\n",
              "      <th>Neutral_Sentiment</th>\n",
              "      <th>Negative_Sentiment</th>\n",
              "      <th>Review_Length</th>\n",
              "      <th>Date_of_Review</th>\n",
              "      <th>Holiday_Season</th>\n",
              "      <th>bag_of_words</th>\n",
              "    </tr>\n",
              "  </thead>\n",
              "  <tbody>\n",
              "    <tr>\n",
              "      <th>0</th>\n",
              "      <td>abl aggress also apart apart aussi away ball b...</td>\n",
              "      <td>1</td>\n",
              "      <td>0.160</td>\n",
              "      <td>0.690</td>\n",
              "      <td>0.149</td>\n",
              "      <td>415</td>\n",
              "      <td>2012-05-06</td>\n",
              "      <td>False</td>\n",
              "      <td>[[(0, 1.0), (1, 1.0), (2, 1.0), (3, 2.0), (4, ...</td>\n",
              "    </tr>\n",
              "    <tr>\n",
              "      <th>1</th>\n",
              "      <td>bark bark bark clean day dish dish dog dump fi...</td>\n",
              "      <td>1</td>\n",
              "      <td>0.116</td>\n",
              "      <td>0.756</td>\n",
              "      <td>0.128</td>\n",
              "      <td>195</td>\n",
              "      <td>2014-04-07</td>\n",
              "      <td>False</td>\n",
              "      <td>[[(56, 3.0), (57, 1.0), (58, 1.0), (59, 2.0), ...</td>\n",
              "    </tr>\n",
              "    <tr>\n",
              "      <th>2</th>\n",
              "      <td>better disappoint money think wast absorb abso...</td>\n",
              "      <td>1</td>\n",
              "      <td>0.239</td>\n",
              "      <td>0.527</td>\n",
              "      <td>0.234</td>\n",
              "      <td>334</td>\n",
              "      <td>2012-07-17</td>\n",
              "      <td>False</td>\n",
              "      <td>[[(7, 1.0), (15, 1.0), (31, 1.0), (47, 1.0), (...</td>\n",
              "    </tr>\n",
              "    <tr>\n",
              "      <th>3</th>\n",
              "      <td>just will full next one price add anyth bottl ...</td>\n",
              "      <td>1</td>\n",
              "      <td>0.000</td>\n",
              "      <td>0.881</td>\n",
              "      <td>0.119</td>\n",
              "      <td>157</td>\n",
              "      <td>2014-07-14</td>\n",
              "      <td>False</td>\n",
              "      <td>[[(23, 1.0), (55, 1.0), (63, 1.0), (67, 1.0), ...</td>\n",
              "    </tr>\n",
              "    <tr>\n",
              "      <th>4</th>\n",
              "      <td>left now either go goe light light nowher plu ...</td>\n",
              "      <td>1</td>\n",
              "      <td>0.119</td>\n",
              "      <td>0.881</td>\n",
              "      <td>0.000</td>\n",
              "      <td>82</td>\n",
              "      <td>2013-05-16</td>\n",
              "      <td>False</td>\n",
              "      <td>[[(99, 1.0), (133, 1.0), (143, 1.0), (144, 1.0...</td>\n",
              "    </tr>\n",
              "    <tr>\n",
              "      <th>5</th>\n",
              "      <td>just littl day day use bought problem now time...</td>\n",
              "      <td>1</td>\n",
              "      <td>0.080</td>\n",
              "      <td>0.717</td>\n",
              "      <td>0.203</td>\n",
              "      <td>232</td>\n",
              "      <td>2013-06-17</td>\n",
              "      <td>False</td>\n",
              "      <td>[[(23, 1.0), (28, 1.0), (58, 2.0), (79, 1.0), ...</td>\n",
              "    </tr>\n",
              "    <tr>\n",
              "      <th>6</th>\n",
              "      <td>ball larg lb terrier dog dog within boston che...</td>\n",
              "      <td>1</td>\n",
              "      <td>0.073</td>\n",
              "      <td>0.927</td>\n",
              "      <td>0.000</td>\n",
              "      <td>79</td>\n",
              "      <td>2013-10-16</td>\n",
              "      <td>False</td>\n",
              "      <td>[[(6, 1.0), (25, 1.0), (26, 1.0), (46, 1.0), (...</td>\n",
              "    </tr>\n",
              "    <tr>\n",
              "      <th>7</th>\n",
              "      <td>better come come tri will will replac return r...</td>\n",
              "      <td>1</td>\n",
              "      <td>0.116</td>\n",
              "      <td>0.849</td>\n",
              "      <td>0.035</td>\n",
              "      <td>568</td>\n",
              "      <td>2012-08-27</td>\n",
              "      <td>False</td>\n",
              "      <td>[[(7, 1.0), (12, 2.0), (51, 1.0), (55, 2.0), (...</td>\n",
              "    </tr>\n",
              "    <tr>\n",
              "      <th>8</th>\n",
              "      <td>come hard tri dog break care kick leg near</td>\n",
              "      <td>1</td>\n",
              "      <td>0.276</td>\n",
              "      <td>0.603</td>\n",
              "      <td>0.121</td>\n",
              "      <td>43</td>\n",
              "      <td>2013-10-24</td>\n",
              "      <td>False</td>\n",
              "      <td>[[(12, 1.0), (21, 1.0), (51, 1.0), (60, 1.0), ...</td>\n",
              "    </tr>\n",
              "    <tr>\n",
              "      <th>9</th>\n",
              "      <td>tri will dog return use use use bought bought ...</td>\n",
              "      <td>1</td>\n",
              "      <td>0.118</td>\n",
              "      <td>0.882</td>\n",
              "      <td>0.000</td>\n",
              "      <td>235</td>\n",
              "      <td>2014-01-16</td>\n",
              "      <td>False</td>\n",
              "      <td>[[(51, 1.0), (55, 1.0), (60, 1.0), (73, 1.0), ...</td>\n",
              "    </tr>\n",
              "  </tbody>\n",
              "</table>\n",
              "</div>"
            ],
            "text/plain": [
              "                                              Review  ...                                       bag_of_words\n",
              "0  abl aggress also apart apart aussi away ball b...  ...  [[(0, 1.0), (1, 1.0), (2, 1.0), (3, 2.0), (4, ...\n",
              "1  bark bark bark clean day dish dish dog dump fi...  ...  [[(56, 3.0), (57, 1.0), (58, 1.0), (59, 2.0), ...\n",
              "2  better disappoint money think wast absorb abso...  ...  [[(7, 1.0), (15, 1.0), (31, 1.0), (47, 1.0), (...\n",
              "3  just will full next one price add anyth bottl ...  ...  [[(23, 1.0), (55, 1.0), (63, 1.0), (67, 1.0), ...\n",
              "4  left now either go goe light light nowher plu ...  ...  [[(99, 1.0), (133, 1.0), (143, 1.0), (144, 1.0...\n",
              "5  just littl day day use bought problem now time...  ...  [[(23, 1.0), (28, 1.0), (58, 2.0), (79, 1.0), ...\n",
              "6  ball larg lb terrier dog dog within boston che...  ...  [[(6, 1.0), (25, 1.0), (26, 1.0), (46, 1.0), (...\n",
              "7  better come come tri will will replac return r...  ...  [[(7, 1.0), (12, 2.0), (51, 1.0), (55, 2.0), (...\n",
              "8        come hard tri dog break care kick leg near   ...  [[(12, 1.0), (21, 1.0), (51, 1.0), (60, 1.0), ...\n",
              "9  tri will dog return use use use bought bought ...  ...  [[(51, 1.0), (55, 1.0), (60, 1.0), (73, 1.0), ...\n",
              "\n",
              "[10 rows x 9 columns]"
            ]
          },
          "metadata": {
            "tags": []
          }
        }
      ]
    },
    {
      "cell_type": "markdown",
      "metadata": {
        "id": "xQRkYV0WjQ3e",
        "colab_type": "text"
      },
      "source": [
        "**4. Dataset Analysis**\n",
        "\n",
        "Now that we have seen how we got the dataset, we will use the 100,000 Amazon Review dataset and try to predict star ratings.\n",
        "\n",
        "The last 5 rows of the actual dataframe is displayed below."
      ]
    },
    {
      "cell_type": "code",
      "metadata": {
        "id": "XonXVkyWvSbn",
        "colab_type": "code",
        "outputId": "fa9465c9-f72d-4799-b29c-7b18a25c8da4",
        "colab": {
          "base_uri": "https://localhost:8080/",
          "height": 194
        }
      },
      "source": [
        "import io\n",
        "\n",
        "# Please make sure that the filename in \"uploaded\" is the same as the excel that you downloaded\n",
        "df2 = pd.read_csv(io.BytesIO(uploaded['Final_DataSet-545.csv']))\n",
        "df2 = df2.drop(columns=['Unnamed: 0'])\n",
        "\n",
        "display(df2.tail())"
      ],
      "execution_count": 0,
      "outputs": [
        {
          "output_type": "display_data",
          "data": {
            "text/html": [
              "<div>\n",
              "<style scoped>\n",
              "    .dataframe tbody tr th:only-of-type {\n",
              "        vertical-align: middle;\n",
              "    }\n",
              "\n",
              "    .dataframe tbody tr th {\n",
              "        vertical-align: top;\n",
              "    }\n",
              "\n",
              "    .dataframe thead th {\n",
              "        text-align: right;\n",
              "    }\n",
              "</style>\n",
              "<table border=\"1\" class=\"dataframe\">\n",
              "  <thead>\n",
              "    <tr style=\"text-align: right;\">\n",
              "      <th></th>\n",
              "      <th>Review</th>\n",
              "      <th>Ratings</th>\n",
              "      <th>Positive_Sentiment</th>\n",
              "      <th>Neutral_Sentiment</th>\n",
              "      <th>Negative_Sentiment</th>\n",
              "      <th>Review_Length</th>\n",
              "      <th>Date_of_Review</th>\n",
              "      <th>Holiday_Season</th>\n",
              "      <th>bag_of_words</th>\n",
              "    </tr>\n",
              "  </thead>\n",
              "  <tbody>\n",
              "    <tr>\n",
              "      <th>99995</th>\n",
              "      <td>come tri will replac worth time work batteri m...</td>\n",
              "      <td>5</td>\n",
              "      <td>0.176</td>\n",
              "      <td>0.824</td>\n",
              "      <td>0.000</td>\n",
              "      <td>101</td>\n",
              "      <td>4/4/2013</td>\n",
              "      <td>False</td>\n",
              "      <td>[[(12, 1.0), (51, 1.0), (55, 1.0), (72, 1.0), ...</td>\n",
              "    </tr>\n",
              "    <tr>\n",
              "      <th>99996</th>\n",
              "      <td>great use water water water problem straight e...</td>\n",
              "      <td>5</td>\n",
              "      <td>0.253</td>\n",
              "      <td>0.625</td>\n",
              "      <td>0.122</td>\n",
              "      <td>263</td>\n",
              "      <td>9/21/2010</td>\n",
              "      <td>False</td>\n",
              "      <td>[[(20, 1.0), (79, 1.0), (80, 3.0), (110, 1.0),...</td>\n",
              "    </tr>\n",
              "    <tr>\n",
              "      <th>99997</th>\n",
              "      <td>think one now go get around thing even small y...</td>\n",
              "      <td>5</td>\n",
              "      <td>0.189</td>\n",
              "      <td>0.811</td>\n",
              "      <td>0.000</td>\n",
              "      <td>106</td>\n",
              "      <td>5/12/2013</td>\n",
              "      <td>False</td>\n",
              "      <td>[[(47, 1.0), (105, 1.0), (133, 1.0), (144, 1.0...</td>\n",
              "    </tr>\n",
              "    <tr>\n",
              "      <th>99998</th>\n",
              "      <td>abl littl work still well product realli remai...</td>\n",
              "      <td>5</td>\n",
              "      <td>0.130</td>\n",
              "      <td>0.683</td>\n",
              "      <td>0.186</td>\n",
              "      <td>80</td>\n",
              "      <td>3/5/2013</td>\n",
              "      <td>False</td>\n",
              "      <td>[[(0, 1.0), (28, 1.0), (142, 1.0), (175, 1.0),...</td>\n",
              "    </tr>\n",
              "    <tr>\n",
              "      <th>99999</th>\n",
              "      <td>better sinc use problem get top need help back...</td>\n",
              "      <td>5</td>\n",
              "      <td>0.335</td>\n",
              "      <td>0.449</td>\n",
              "      <td>0.216</td>\n",
              "      <td>135</td>\n",
              "      <td>7/27/2012</td>\n",
              "      <td>False</td>\n",
              "      <td>[[(7, 1.0), (75, 1.0), (79, 1.0), (110, 1.0), ...</td>\n",
              "    </tr>\n",
              "  </tbody>\n",
              "</table>\n",
              "</div>"
            ],
            "text/plain": [
              "                                                  Review  ...                                       bag_of_words\n",
              "99995  come tri will replac worth time work batteri m...  ...  [[(12, 1.0), (51, 1.0), (55, 1.0), (72, 1.0), ...\n",
              "99996  great use water water water problem straight e...  ...  [[(20, 1.0), (79, 1.0), (80, 3.0), (110, 1.0),...\n",
              "99997  think one now go get around thing even small y...  ...  [[(47, 1.0), (105, 1.0), (133, 1.0), (144, 1.0...\n",
              "99998  abl littl work still well product realli remai...  ...  [[(0, 1.0), (28, 1.0), (142, 1.0), (175, 1.0),...\n",
              "99999  better sinc use problem get top need help back...  ...  [[(7, 1.0), (75, 1.0), (79, 1.0), (110, 1.0), ...\n",
              "\n",
              "[5 rows x 9 columns]"
            ]
          },
          "metadata": {
            "tags": []
          }
        }
      ]
    },
    {
      "cell_type": "markdown",
      "metadata": {
        "id": "GCPwN8K4ntVc",
        "colab_type": "text"
      },
      "source": [
        "Before we start answering our claims that we made from the previous section. We need to handle **missing values** that occured in our dataset. \n",
        "\n",
        "The cell below finds those indices which had missing values and hence non existent BoW and replaces them with an \"(empty)\" review. \n",
        "\n",
        "Finally, all the reviews are stored in a list called \"documents\""
      ]
    },
    {
      "cell_type": "code",
      "metadata": {
        "id": "olGW7Sbdnrdk",
        "colab_type": "code",
        "outputId": "98813336-9c3e-4213-978e-0855b49c83a1",
        "colab": {
          "base_uri": "https://localhost:8080/",
          "height": 55
        }
      },
      "source": [
        "documents = []\n",
        "missing_values=[]\n",
        "X=df2['Review']\n",
        "for i,j in enumerate(X):\n",
        "  if isinstance(j, float):\n",
        "    missing_values.append(i)\n",
        "    documents.append(\"\")\n",
        "  else:\n",
        "    documents.append(j)  \n",
        "print(\"List of indices with missing values are:\", missing_values)"
      ],
      "execution_count": 0,
      "outputs": [
        {
          "output_type": "stream",
          "text": [
            "List of indices with missing values are: [12509, 13075, 13113, 13542, 14031, 14148, 15177, 18256, 18370, 21873, 21897, 21991, 32258, 38526, 39041, 42428, 44725, 50840, 55156, 60792, 62032, 62594, 64402, 65105, 66696, 69351, 69771, 70254, 77158, 79352, 84942, 87516, 95195, 99710]\n"
          ],
          "name": "stdout"
        }
      ]
    },
    {
      "cell_type": "markdown",
      "metadata": {
        "id": "uf9FqTd_jXYq",
        "colab_type": "text"
      },
      "source": [
        "We previously made a claim that people tend to give nicer reviews during the holidays. Run the cell below which will display a bar graph which we can use to accept/reject our claim."
      ]
    },
    {
      "cell_type": "code",
      "metadata": {
        "id": "Jj4FCDw3dt8x",
        "colab_type": "code",
        "outputId": "cd489c3f-f0d2-403e-e8e1-fd7bd3b9a778",
        "colab": {
          "base_uri": "https://localhost:8080/",
          "height": 299
        }
      },
      "source": [
        "Reviews_Holiday_Season=df2[df2['Holiday_Season']]['Ratings'].mean()\n",
        "Reviews_Non_Holiday_Season=df2[df2['Holiday_Season']==False]['Ratings'].mean()\n",
        "\n",
        "Holiday_Review_Comparison=[Reviews_Holiday_Season,Reviews_Non_Holiday_Season]\n",
        "objects = ('Holiday Season','Non Holiday Season')\n",
        "\n",
        "y_pos = np.arange(len(objects))\n",
        "plt.bar(y_pos, Holiday_Review_Comparison, align='center', alpha=0.5)\n",
        "plt.xticks(y_pos, objects)\n",
        "plt.ylabel('Average Rating')\n",
        "plt.title('Holiday Season vs Rating')"
      ],
      "execution_count": 0,
      "outputs": [
        {
          "output_type": "execute_result",
          "data": {
            "text/plain": [
              "Text(0.5, 1.0, 'Holiday Season vs Rating')"
            ]
          },
          "metadata": {
            "tags": []
          },
          "execution_count": 26
        },
        {
          "output_type": "display_data",
          "data": {
            "image/png": "[encoded data removed]",
            "text/plain": [
              "<Figure size 432x288 with 1 Axes>"
            ]
          },
          "metadata": {
            "tags": []
          }
        }
      ]
    },
    {
      "cell_type": "markdown",
      "metadata": {
        "id": "HcRmAs9nm0Qq",
        "colab_type": "text"
      },
      "source": [
        "From the bar graph we see that the average rating given by users during the Holiday and Non Holiday Season are identical. Hence our claim that \"people give nicer during holidays\" can be rejected."
      ]
    },
    {
      "cell_type": "markdown",
      "metadata": {
        "id": "M6PY6UITjsRV",
        "colab_type": "text"
      },
      "source": [
        "The next claim that we made was that people tend to write longer reviews when they are experiencing extreme emotions. Run the cell below to see if this is true."
      ]
    },
    {
      "cell_type": "code",
      "metadata": {
        "id": "6bL0BgvLjaAa",
        "colab_type": "code",
        "outputId": "be8c61d9-16fa-40d6-ceb6-a3e687233546",
        "colab": {
          "base_uri": "https://localhost:8080/",
          "height": 313
        }
      },
      "source": [
        "L1= df2[df2['Ratings']==1]['Review_Length'].mean()\n",
        "L2= df2[df2['Ratings']==2]['Review_Length'].mean()\n",
        "L3= df2[df2['Ratings']==3]['Review_Length'].mean()\n",
        "L4= df2[df2['Ratings']==4]['Review_Length'].mean()\n",
        "L5= df2[df2['Ratings']==5]['Review_Length'].mean()\n",
        "\n",
        "\n",
        "Review_Length_Comparison=[L1,L2,L3,L4,L5]\n",
        "objects = ('1 star','2 star','3 star', '4 star' ,'5 star')\n",
        "\n",
        "y_pos = np.arange(len(objects))\n",
        "plt.bar(y_pos, Review_Length_Comparison, align='center', alpha=0.5)\n",
        "plt.xticks(y_pos, objects)\n",
        "plt.ylabel('Length of Review')\n",
        "plt.xlabel('Star Rating')\n",
        "plt.title('Review_Length vs Rating')"
      ],
      "execution_count": 0,
      "outputs": [
        {
          "output_type": "execute_result",
          "data": {
            "text/plain": [
              "Text(0.5, 1.0, 'Review_Length vs Rating')"
            ]
          },
          "metadata": {
            "tags": []
          },
          "execution_count": 27
        },
        {
          "output_type": "display_data",
          "data": {
            "image/png": "[encoded data removed]",
            "text/plain": [
              "<Figure size 432x288 with 1 Axes>"
            ]
          },
          "metadata": {
            "tags": []
          }
        }
      ]
    },
    {
      "cell_type": "markdown",
      "metadata": {
        "id": "tJ_i12Pjj6gD",
        "colab_type": "text"
      },
      "source": [
        "From the bar chart we see that the shortest reviews are written for a star rating of 3 stars. Hence our claim cannot be rejected. People do tend to short reviews when they are just satisfied with their project and do not have a very strong opinion on it. The highest reviews lengths are given to product with 2 and 5 stars (which does seem reasonable). "
      ]
    },
    {
      "cell_type": "markdown",
      "metadata": {
        "id": "l6lQ1URkkQfv",
        "colab_type": "text"
      },
      "source": [
        "We also calculated the sentiment of each review. Let's try to see what is the overall sentiment of the dataset."
      ]
    },
    {
      "cell_type": "code",
      "metadata": {
        "id": "ZRY5_6tekgSj",
        "colab_type": "code",
        "outputId": "db2577c3-0eec-439b-b7f0-304471306f4e",
        "colab": {
          "base_uri": "https://localhost:8080/",
          "height": 70
        }
      },
      "source": [
        "Avg_Pos_Sentiment = df2['Positive_Sentiment'].mean()\n",
        "Avg_Neu_Sentiment = df2['Neutral_Sentiment'].mean()\n",
        "Avg_Neg_Sentiment = df2['Negative_Sentiment'].mean()\n",
        "\n",
        "print(\"Average Positive Sentiment of dataset:\",Avg_Pos_Sentiment)\n",
        "print(\"Average Neutral Sentiment of dataset:\",Avg_Neu_Sentiment)\n",
        "print(\"Average Negative Sentiment of dataset:\",Avg_Neg_Sentiment)"
      ],
      "execution_count": 0,
      "outputs": [
        {
          "output_type": "stream",
          "text": [
            "Average Positive Sentiment of dataset: 0.2300957699999985\n",
            "Average Neutral Sentiment of dataset: 0.7038508100000255\n",
            "Average Negative Sentiment of dataset: 0.06571150999999988\n"
          ],
          "name": "stdout"
        }
      ]
    },
    {
      "cell_type": "markdown",
      "metadata": {
        "id": "jr0CAUyokZeN",
        "colab_type": "text"
      },
      "source": [
        "We see a very high **Neutral** sentiment in that dataset. This can be explained by people subtly expressing their positive/negative opinions which could not be captured by the NLTK Sentiment Analyzer due to the **Random Ordering of Words**"
      ]
    },
    {
      "cell_type": "markdown",
      "metadata": {
        "id": "W3aAO7CXomMy",
        "colab_type": "text"
      },
      "source": [
        "**Count Vectorizer**\n",
        "\n",
        "We are almost done with all our feature engineering and analysis of the dataset. The last thing for us to do is to convert our textual data into a numeric form. This is an important step because machine learning algorithms expect numeric data to work on rather than text. Hence to perform this conversion we will use CountVectorizer() function.\n",
        "\n",
        "We will be creating vectors that have a dimensionality restricted to a maximum of 3000 worda. If the text data contains that word then we will put a one in that dimension. Every time we encounter that word again, we will increase the count, leaving 0s everywhere we did not find the word even once.\n",
        "\n",
        "The result of this will be very large matrix which will give us the word frequency count in every document. \n",
        "\n",
        "The CountVectorizer is a way to tokenize a collection of text documents and build a vocabulary of known words. It also helps to encode new documents using that vocabulary. We will pass all our reviews to this CountVectorizer and it will build a sparse matrix which can be used by the machine learning classfier to classify the reviews. "
      ]
    },
    {
      "cell_type": "code",
      "metadata": {
        "id": "VYoQaZDcBIEw",
        "colab_type": "code",
        "outputId": "6a5115d3-a081-4ab2-a640-1dae1dbbc428",
        "colab": {
          "base_uri": "https://localhost:8080/",
          "height": 159
        }
      },
      "source": [
        "from sklearn.feature_extraction.text import CountVectorizer\n",
        "\n",
        "vectorizer = CountVectorizer(stop_words='english',max_features=3000)\n",
        "X = vectorizer.fit_transform(documents).toarray()\n",
        "print(\"Encoded Count Vectorizer Matrix\")\n",
        "print(X)"
      ],
      "execution_count": 0,
      "outputs": [
        {
          "output_type": "stream",
          "text": [
            "Encoded Count Vectorizer Matrix\n",
            "[[0 0 0 ... 0 0 0]\n",
            " [0 0 0 ... 0 0 0]\n",
            " [0 0 0 ... 0 0 0]\n",
            " ...\n",
            " [0 0 0 ... 0 0 0]\n",
            " [0 0 0 ... 0 0 0]\n",
            " [0 0 0 ... 0 0 0]]\n"
          ],
          "name": "stdout"
        }
      ]
    },
    {
      "cell_type": "markdown",
      "metadata": {
        "id": "7asPUDCsp-zb",
        "colab_type": "text"
      },
      "source": [
        "Finally, we will create our training feature dataframe (X) and the label dataframe (y). "
      ]
    },
    {
      "cell_type": "code",
      "metadata": {
        "id": "7KG1jTdK1-U2",
        "colab_type": "code",
        "colab": {}
      },
      "source": [
        "X=pd.DataFrame(X)\n",
        "X['Holiday_Season'] =df2['Holiday_Season']\n",
        "X['Positive_Sentiment'] = df2['Positive_Sentiment']\n",
        "X['Neutral_Sentiment'] = df2['Neutral_Sentiment']\n",
        "X['Negative_Sentiment'] = df2['Negative_Sentiment']\n",
        "X['Review_Length'] = df2['Review_Length']\n",
        "y= df2['Ratings']"
      ],
      "execution_count": 0,
      "outputs": []
    },
    {
      "cell_type": "code",
      "metadata": {
        "id": "s43TlIe3dXCM",
        "colab_type": "code",
        "colab": {}
      },
      "source": [
        "# performing 80-20 Train Test Split on the dataset\n",
        "X_train, X_test, y_train, y_test = train_test_split(X, y, test_size=0.2, random_state=42)"
      ],
      "execution_count": 0,
      "outputs": []
    },
    {
      "cell_type": "markdown",
      "metadata": {
        "id": "T4PWmX8fqdPg",
        "colab_type": "text"
      },
      "source": [
        "**5. Building the model**\n",
        "\n",
        "Now that we have our training and test dataset we will use sklearn library to build 3 models to run on our dataset.\n",
        "\n",
        "\n",
        "1.   Random Forest Classifier \n",
        "2.   Naive Bayes\n",
        "3.   Logistic Regression"
      ]
    },
    {
      "cell_type": "code",
      "metadata": {
        "id": "xhWMX392fjAg",
        "colab_type": "code",
        "colab": {}
      },
      "source": [
        "classifiers = [\n",
        "    RandomForestClassifier(),\n",
        "    GaussianNB(),\n",
        "    LogisticRegression()\n",
        "    ]\n",
        "\n",
        "names_of_classifiers=[\"Random Forest\",\"Naive Bayes\",\"Logistic Regression\"]"
      ],
      "execution_count": 0,
      "outputs": []
    },
    {
      "cell_type": "code",
      "metadata": {
        "id": "KzW95lm1fpB1",
        "colab_type": "code",
        "outputId": "de84ed62-8a0d-49e2-cb48-14ac95b258a7",
        "colab": {
          "base_uri": "https://localhost:8080/",
          "height": 355
        }
      },
      "source": [
        "# code to create, fit and predict the star ratings using the Machine Learning classifiers that were listed above\n",
        "\n",
        "acc_score=[]\n",
        "f1_scores=[]\n",
        "p_scores=[]\n",
        "r_scores=[]\n",
        "for index,clf in enumerate(classifiers):\n",
        "    \n",
        "    clf.fit(X_train, y_train)\n",
        "    name = clf.__class__.__name__\n",
        "    \n",
        "    print(\"=\"*30)\n",
        "    print(name)\n",
        "    \n",
        "    print('****Results****')\n",
        "    y_pred = clf.predict(X_test)\n",
        "    acc= accuracy_score(y_test, y_pred)\n",
        "    acc_score.append(acc)\n",
        "    print(\"Accuracy: {:.4%}\".format(acc))\n",
        "    \n",
        "    if index == len(classifiers) - 1:\n",
        "      cm=confusion_matrix(y_test,y_pred)\n",
        "      f1_scores=f1_score(y_test, y_pred, average=None)\n",
        "      p_scores=precision_score(y_test, y_pred, average=None)\n",
        "      r_scores=recall_score(y_test, y_pred, average=None)\n",
        "   \n",
        "print(\"=\"*30)"
      ],
      "execution_count": 0,
      "outputs": [
        {
          "output_type": "stream",
          "text": [
            "/usr/local/lib/python3.6/dist-packages/sklearn/ensemble/forest.py:245: FutureWarning: The default value of n_estimators will change from 10 in version 0.20 to 100 in 0.22.\n",
            "  \"10 in version 0.20 to 100 in 0.22.\", FutureWarning)\n"
          ],
          "name": "stderr"
        },
        {
          "output_type": "stream",
          "text": [
            "==============================\n",
            "RandomForestClassifier\n",
            "****Results****\n",
            "Accuracy: 75.5750%\n",
            "==============================\n",
            "GaussianNB\n",
            "****Results****\n",
            "Accuracy: 70.0850%\n"
          ],
          "name": "stdout"
        },
        {
          "output_type": "stream",
          "text": [
            "/usr/local/lib/python3.6/dist-packages/sklearn/linear_model/logistic.py:432: FutureWarning: Default solver will be changed to 'lbfgs' in 0.22. Specify a solver to silence this warning.\n",
            "  FutureWarning)\n",
            "/usr/local/lib/python3.6/dist-packages/sklearn/linear_model/logistic.py:469: FutureWarning: Default multi_class will be changed to 'auto' in 0.22. Specify the multi_class option to silence this warning.\n",
            "  \"this warning.\", FutureWarning)\n"
          ],
          "name": "stderr"
        },
        {
          "output_type": "stream",
          "text": [
            "==============================\n",
            "LogisticRegression\n",
            "****Results****\n",
            "Accuracy: 85.0950%\n",
            "==============================\n"
          ],
          "name": "stdout"
        }
      ]
    },
    {
      "cell_type": "markdown",
      "metadata": {
        "id": "94Hx6nvd8_eS",
        "colab_type": "text"
      },
      "source": [
        "**6. Analysis of the models**\n",
        "\n",
        "**6.1 Accuracy Plot**\n",
        "\n",
        "Plot showing the accuracies of the different classifiers. "
      ]
    },
    {
      "cell_type": "code",
      "metadata": {
        "id": "IXHYxekFzjWE",
        "colab_type": "code",
        "outputId": "42cb5ec1-e77c-44a1-8a98-da0f2f2fc1a8",
        "colab": {
          "base_uri": "https://localhost:8080/",
          "height": 295
        }
      },
      "source": [
        "import os\n",
        "import numpy as np\n",
        "import matplotlib.pyplot as plt\n",
        "\n",
        "x = names_of_classifiers\n",
        "acc = acc_score\n",
        "\n",
        "fig, ax = plt.subplots()    \n",
        "width = 0.75 # the width of the bars \n",
        "ind = np.arange(len(acc))  # the x locations for the groups\n",
        "ax.barh(ind, acc, width, color=(0.2, 0.4, 0.6, 0.6))\n",
        "ax.set_yticks(ind+width/2)\n",
        "ax.set_yticklabels(x, minor=False)\n",
        "for i, v in enumerate(acc):\n",
        "    #ax.text(v + 3, i + .25, str(v), color='blue', fontweight='bold')\n",
        "    temp = float(v)\n",
        "    ax.text(0.5, i+0.1,str(v))\n",
        "plt.title('Accuracy Comparsion')\n",
        "plt.xlabel('Accuracy')\n",
        "plt.ylabel('Classifiers')      \n",
        "#plt.show()\n",
        "plt.savefig(os.path.join('test.png'), dpi=300, format='png', bbox_inches='tight') "
      ],
      "execution_count": 0,
      "outputs": [
        {
          "output_type": "display_data",
          "data": {
            "image/png": "[encoded data removed]",
            "text/plain": [
              "<Figure size 432x288 with 1 Axes>"
            ]
          },
          "metadata": {
            "tags": []
          }
        }
      ]
    },
    {
      "cell_type": "markdown",
      "metadata": {
        "id": "iziIYsZQsAIv",
        "colab_type": "text"
      },
      "source": [
        "It can clearly be seen that based on the accuracy **Logistic Regression** is performing better than the other classifers. (**This claim is only specific to the analysis performed in this notebook.**)"
      ]
    },
    {
      "cell_type": "markdown",
      "metadata": {
        "id": "M0na35joaXLu",
        "colab_type": "text"
      },
      "source": [
        "**6.2 Learning Curve**\n",
        "\n",
        "A learning curve is a plot that shows training size on the x-axis and learning or improvement (in accuracy) on the y-axis. \n",
        "\n",
        "Now that we have established that **Logistic Regression** is performing better than other models **(strictly on the basis of the analysis that we have performed)**, we will see how training size affects the learning of the model. This will take 10 minutes to run.\n",
        "\n",
        "**Note: Please ignore the warnings and scroll to the end of the warnings to see the curve.**"
      ]
    },
    {
      "cell_type": "code",
      "metadata": {
        "id": "MVG8wsL0PrL3",
        "colab_type": "code",
        "outputId": "39ad5e46-146b-49cf-d786-861995be2f54",
        "colab": {
          "base_uri": "https://localhost:8080/",
          "height": 1000
        }
      },
      "source": [
        "from sklearn.model_selection import learning_curve\n",
        "train_sizes, train_scores, test_scores = learning_curve(LogisticRegression(), \n",
        "                                                        X, \n",
        "                                                        y,\n",
        "                                                        # Number of folds in cross-validation\n",
        "                                                        cv=5,\n",
        "                                                        # Evaluation metric\n",
        "                                                        scoring='accuracy',\n",
        "                                                        # Use all computer cores\n",
        "                \n",
        "                                                        # 4 different sizes of the training set\n",
        "                                                        train_sizes=np.linspace(0.25, 1.0, 4))\n",
        "# Create means and standard deviations of training set scores\n",
        "train_mean = np.mean(train_scores, axis=1)\n",
        "train_std = np.std(train_scores, axis=1)\n",
        "\n",
        "# Create means and standard deviations of test set scores\n",
        "test_mean = np.mean(test_scores, axis=1)\n",
        "test_std = np.std(test_scores, axis=1)\n",
        "\n",
        "# Draw lines\n",
        "plt.plot(train_sizes, train_mean, '--', color=\"g\",  label=\"Training score\")\n",
        "plt.plot(train_sizes, test_mean, color=\"b\", label=\"Cross-validation score\")\n",
        "\n",
        "# Draw bands\n",
        "plt.fill_between(train_sizes, train_mean - train_std, train_mean + train_std, color=\"#DDDDDD\")\n",
        "plt.fill_between(train_sizes, test_mean - test_std, test_mean + test_std, color=\"#DDDDDD\")\n",
        "\n",
        "# Create plot\n",
        "plt.title(\"Learning Curve\")\n",
        "plt.xlabel(\"Training Set Size\"), plt.ylabel(\"Accuracy Score\"), plt.legend(loc=\"best\")\n",
        "plt.tight_layout()\n",
        "plt.show()"
      ],
      "execution_count": 0,
      "outputs": [
        {
          "output_type": "stream",
          "text": [
            "/usr/local/lib/python3.6/dist-packages/sklearn/linear_model/logistic.py:432: FutureWarning: Default solver will be changed to 'lbfgs' in 0.22. Specify a solver to silence this warning.\n",
            "  FutureWarning)\n",
            "/usr/local/lib/python3.6/dist-packages/sklearn/linear_model/logistic.py:432: FutureWarning: Default solver will be changed to 'lbfgs' in 0.22. Specify a solver to silence this warning.\n",
            "  FutureWarning)\n",
            "/usr/local/lib/python3.6/dist-packages/sklearn/linear_model/logistic.py:469: FutureWarning: Default multi_class will be changed to 'auto' in 0.22. Specify the multi_class option to silence this warning.\n",
            "  \"this warning.\", FutureWarning)\n",
            "/usr/local/lib/python3.6/dist-packages/sklearn/linear_model/logistic.py:432: FutureWarning: Default solver will be changed to 'lbfgs' in 0.22. Specify a solver to silence this warning.\n",
            "  FutureWarning)\n",
            "/usr/local/lib/python3.6/dist-packages/sklearn/linear_model/logistic.py:469: FutureWarning: Default multi_class will be changed to 'auto' in 0.22. Specify the multi_class option to silence this warning.\n",
            "  \"this warning.\", FutureWarning)\n",
            "/usr/local/lib/python3.6/dist-packages/sklearn/linear_model/logistic.py:432: FutureWarning: Default solver will be changed to 'lbfgs' in 0.22. Specify a solver to silence this warning.\n",
            "  FutureWarning)\n",
            "/usr/local/lib/python3.6/dist-packages/sklearn/linear_model/logistic.py:469: FutureWarning: Default multi_class will be changed to 'auto' in 0.22. Specify the multi_class option to silence this warning.\n",
            "  \"this warning.\", FutureWarning)\n",
            "/usr/local/lib/python3.6/dist-packages/sklearn/linear_model/logistic.py:432: FutureWarning: Default solver will be changed to 'lbfgs' in 0.22. Specify a solver to silence this warning.\n",
            "  FutureWarning)\n",
            "/usr/local/lib/python3.6/dist-packages/sklearn/linear_model/logistic.py:469: FutureWarning: Default multi_class will be changed to 'auto' in 0.22. Specify the multi_class option to silence this warning.\n",
            "  \"this warning.\", FutureWarning)\n",
            "/usr/local/lib/python3.6/dist-packages/sklearn/linear_model/logistic.py:432: FutureWarning: Default solver will be changed to 'lbfgs' in 0.22. Specify a solver to silence this warning.\n",
            "  FutureWarning)\n",
            "/usr/local/lib/python3.6/dist-packages/sklearn/linear_model/logistic.py:469: FutureWarning: Default multi_class will be changed to 'auto' in 0.22. Specify the multi_class option to silence this warning.\n",
            "  \"this warning.\", FutureWarning)\n",
            "/usr/local/lib/python3.6/dist-packages/sklearn/linear_model/logistic.py:432: FutureWarning: Default solver will be changed to 'lbfgs' in 0.22. Specify a solver to silence this warning.\n",
            "  FutureWarning)\n",
            "/usr/local/lib/python3.6/dist-packages/sklearn/linear_model/logistic.py:469: FutureWarning: Default multi_class will be changed to 'auto' in 0.22. Specify the multi_class option to silence this warning.\n",
            "  \"this warning.\", FutureWarning)\n",
            "/usr/local/lib/python3.6/dist-packages/sklearn/linear_model/logistic.py:432: FutureWarning: Default solver will be changed to 'lbfgs' in 0.22. Specify a solver to silence this warning.\n",
            "  FutureWarning)\n",
            "/usr/local/lib/python3.6/dist-packages/sklearn/linear_model/logistic.py:469: FutureWarning: Default multi_class will be changed to 'auto' in 0.22. Specify the multi_class option to silence this warning.\n",
            "  \"this warning.\", FutureWarning)\n",
            "/usr/local/lib/python3.6/dist-packages/sklearn/linear_model/logistic.py:432: FutureWarning: Default solver will be changed to 'lbfgs' in 0.22. Specify a solver to silence this warning.\n",
            "  FutureWarning)\n",
            "/usr/local/lib/python3.6/dist-packages/sklearn/linear_model/logistic.py:469: FutureWarning: Default multi_class will be changed to 'auto' in 0.22. Specify the multi_class option to silence this warning.\n",
            "  \"this warning.\", FutureWarning)\n",
            "/usr/local/lib/python3.6/dist-packages/sklearn/linear_model/logistic.py:432: FutureWarning: Default solver will be changed to 'lbfgs' in 0.22. Specify a solver to silence this warning.\n",
            "  FutureWarning)\n",
            "/usr/local/lib/python3.6/dist-packages/sklearn/linear_model/logistic.py:469: FutureWarning: Default multi_class will be changed to 'auto' in 0.22. Specify the multi_class option to silence this warning.\n",
            "  \"this warning.\", FutureWarning)\n",
            "/usr/local/lib/python3.6/dist-packages/sklearn/linear_model/logistic.py:432: FutureWarning: Default solver will be changed to 'lbfgs' in 0.22. Specify a solver to silence this warning.\n",
            "  FutureWarning)\n",
            "/usr/local/lib/python3.6/dist-packages/sklearn/linear_model/logistic.py:469: FutureWarning: Default multi_class will be changed to 'auto' in 0.22. Specify the multi_class option to silence this warning.\n",
            "  \"this warning.\", FutureWarning)\n",
            "/usr/local/lib/python3.6/dist-packages/sklearn/linear_model/logistic.py:432: FutureWarning: Default solver will be changed to 'lbfgs' in 0.22. Specify a solver to silence this warning.\n",
            "  FutureWarning)\n",
            "/usr/local/lib/python3.6/dist-packages/sklearn/linear_model/logistic.py:469: FutureWarning: Default multi_class will be changed to 'auto' in 0.22. Specify the multi_class option to silence this warning.\n",
            "  \"this warning.\", FutureWarning)\n",
            "/usr/local/lib/python3.6/dist-packages/sklearn/linear_model/logistic.py:432: FutureWarning: Default solver will be changed to 'lbfgs' in 0.22. Specify a solver to silence this warning.\n",
            "  FutureWarning)\n",
            "/usr/local/lib/python3.6/dist-packages/sklearn/linear_model/logistic.py:469: FutureWarning: Default multi_class will be changed to 'auto' in 0.22. Specify the multi_class option to silence this warning.\n",
            "  \"this warning.\", FutureWarning)\n",
            "/usr/local/lib/python3.6/dist-packages/sklearn/linear_model/logistic.py:432: FutureWarning: Default solver will be changed to 'lbfgs' in 0.22. Specify a solver to silence this warning.\n",
            "  FutureWarning)\n",
            "/usr/local/lib/python3.6/dist-packages/sklearn/linear_model/logistic.py:469: FutureWarning: Default multi_class will be changed to 'auto' in 0.22. Specify the multi_class option to silence this warning.\n",
            "  \"this warning.\", FutureWarning)\n",
            "/usr/local/lib/python3.6/dist-packages/sklearn/linear_model/logistic.py:432: FutureWarning: Default solver will be changed to 'lbfgs' in 0.22. Specify a solver to silence this warning.\n",
            "  FutureWarning)\n",
            "/usr/local/lib/python3.6/dist-packages/sklearn/linear_model/logistic.py:469: FutureWarning: Default multi_class will be changed to 'auto' in 0.22. Specify the multi_class option to silence this warning.\n",
            "  \"this warning.\", FutureWarning)\n",
            "/usr/local/lib/python3.6/dist-packages/sklearn/linear_model/logistic.py:432: FutureWarning: Default solver will be changed to 'lbfgs' in 0.22. Specify a solver to silence this warning.\n",
            "  FutureWarning)\n",
            "/usr/local/lib/python3.6/dist-packages/sklearn/linear_model/logistic.py:469: FutureWarning: Default multi_class will be changed to 'auto' in 0.22. Specify the multi_class option to silence this warning.\n",
            "  \"this warning.\", FutureWarning)\n",
            "/usr/local/lib/python3.6/dist-packages/sklearn/linear_model/logistic.py:432: FutureWarning: Default solver will be changed to 'lbfgs' in 0.22. Specify a solver to silence this warning.\n",
            "  FutureWarning)\n",
            "/usr/local/lib/python3.6/dist-packages/sklearn/linear_model/logistic.py:469: FutureWarning: Default multi_class will be changed to 'auto' in 0.22. Specify the multi_class option to silence this warning.\n",
            "  \"this warning.\", FutureWarning)\n",
            "/usr/local/lib/python3.6/dist-packages/sklearn/linear_model/logistic.py:432: FutureWarning: Default solver will be changed to 'lbfgs' in 0.22. Specify a solver to silence this warning.\n",
            "  FutureWarning)\n",
            "/usr/local/lib/python3.6/dist-packages/sklearn/linear_model/logistic.py:469: FutureWarning: Default multi_class will be changed to 'auto' in 0.22. Specify the multi_class option to silence this warning.\n",
            "  \"this warning.\", FutureWarning)\n",
            "/usr/local/lib/python3.6/dist-packages/sklearn/linear_model/logistic.py:432: FutureWarning: Default solver will be changed to 'lbfgs' in 0.22. Specify a solver to silence this warning.\n",
            "  FutureWarning)\n",
            "/usr/local/lib/python3.6/dist-packages/sklearn/linear_model/logistic.py:469: FutureWarning: Default multi_class will be changed to 'auto' in 0.22. Specify the multi_class option to silence this warning.\n",
            "  \"this warning.\", FutureWarning)\n",
            "/usr/local/lib/python3.6/dist-packages/sklearn/linear_model/logistic.py:432: FutureWarning: Default solver will be changed to 'lbfgs' in 0.22. Specify a solver to silence this warning.\n",
            "  FutureWarning)\n",
            "/usr/local/lib/python3.6/dist-packages/sklearn/linear_model/logistic.py:469: FutureWarning: Default multi_class will be changed to 'auto' in 0.22. Specify the multi_class option to silence this warning.\n",
            "  \"this warning.\", FutureWarning)\n"
          ],
          "name": "stderr"
        },
        {
          "output_type": "display_data",
          "data": {
            "image/png": "[encoded data removed]",
            "text/plain": [
              "<Figure size 432x288 with 1 Axes>"
            ]
          },
          "metadata": {
            "tags": []
          }
        }
      ]
    },
    {
      "cell_type": "markdown",
      "metadata": {
        "id": "hmCERJMH3Pg4",
        "colab_type": "text"
      },
      "source": [
        "From the learning curve we can see that the training loss remains steady and then slowly reduces with increase in number of traning samples. This is not very insightful on its own, but when we combine it with the validation curve we see something interesting. The validation set accuracy increases linearly when number of training samples increases. This is because, when our traning set had very few samples the model was **underfitting**. The training set accuracy was high because it had to learn only from a few features but it performed very poorly on the validation set because the model had not seen enough samples for it to generalize well. Later, as we kept increasing the size of the traning set, the model was able to generalize well and while it did lead to drop in training accuracy, the jump in cross validation accuracy was something which was much more important for us. At the end, the model achieved equally good accuracy for both the training and validation set indicating that it had fit well to the data. "
      ]
    },
    {
      "cell_type": "markdown",
      "metadata": {
        "id": "ajt9LX_n4iS-",
        "colab_type": "text"
      },
      "source": [
        "**6.3 Confusion Matrix**\n",
        "\n",
        "For our last piece of analysis, we plot a confusion matrix so that we can clearly see how well the model did across all the 5 classes. "
      ]
    },
    {
      "cell_type": "code",
      "metadata": {
        "id": "QdDULgkrR6jX",
        "colab_type": "code",
        "outputId": "f3d49b47-5d4d-46fd-a65b-2bb063500270",
        "colab": {
          "base_uri": "https://localhost:8080/",
          "height": 315
        }
      },
      "source": [
        "       \n",
        "df_cm = pd.DataFrame(cm, range(1,cm.shape[0]+1),range(1,cm.shape[0]+1))\n",
        "sn.set(font_scale=1.4)#for label size\n",
        "sn.heatmap(df_cm, annot=True,annot_kws={\"size\": 16},fmt='g')# font size\n",
        "plt.title(\"Confusion Matrix for Logistic Regression\")\n",
        "plt.xlabel(\"Predicted Ratings\")\n",
        "plt.ylabel(\"Actual Ratings\")\n",
        "plt.show()"
      ],
      "execution_count": 0,
      "outputs": [
        {
          "output_type": "display_data",
          "data": {
            "image/png": "[encoded data removed]",
            "text/plain": [
              "<Figure size 432x288 with 2 Axes>"
            ]
          },
          "metadata": {
            "tags": []
          }
        }
      ]
    },
    {
      "cell_type": "markdown",
      "metadata": {
        "id": "N_xlfkJb4f_K",
        "colab_type": "text"
      },
      "source": [
        "From the confusion matrix, we calculate the **Precision, Recall and F1 score** across all the 5 classes. \n",
        "\n",
        "$$ Precision = \\frac{TP}{TP +FP} $$\n",
        "\n",
        "$$ Recall = \\frac{TP}{TP +FN} $$\n",
        "\n",
        "$$ F1 = \\frac{2 * Precision * Recall}{Precision + Recall} $$"
      ]
    },
    {
      "cell_type": "code",
      "metadata": {
        "id": "wnbQz5qTuBzE",
        "colab_type": "code",
        "outputId": "5f0d309c-c86d-4b51-bd76-da0e896a3aff",
        "colab": {
          "base_uri": "https://localhost:8080/",
          "height": 212
        }
      },
      "source": [
        "cm_results = pd.DataFrame(np.column_stack([f1_scores, p_scores, r_scores]), columns=['F1 Score', 'Precision', 'Recall'], \n",
        "                          index=['Star Rating 1', 'Star Rating 2', 'Star Rating 3','Star Rating 4','Star Rating 5'])\n",
        "print(\"Confusion Matrix of Logistic Regression\")\n",
        "display(cm_results)"
      ],
      "execution_count": 0,
      "outputs": [
        {
          "output_type": "stream",
          "text": [
            "Confusion Matrix of Logistic Regression\n"
          ],
          "name": "stdout"
        },
        {
          "output_type": "display_data",
          "data": {
            "text/html": [
              "<div>\n",
              "<style scoped>\n",
              "    .dataframe tbody tr th:only-of-type {\n",
              "        vertical-align: middle;\n",
              "    }\n",
              "\n",
              "    .dataframe tbody tr th {\n",
              "        vertical-align: top;\n",
              "    }\n",
              "\n",
              "    .dataframe thead th {\n",
              "        text-align: right;\n",
              "    }\n",
              "</style>\n",
              "<table border=\"1\" class=\"dataframe\">\n",
              "  <thead>\n",
              "    <tr style=\"text-align: right;\">\n",
              "      <th></th>\n",
              "      <th>F1 Score</th>\n",
              "      <th>Precision</th>\n",
              "      <th>Recall</th>\n",
              "    </tr>\n",
              "  </thead>\n",
              "  <tbody>\n",
              "    <tr>\n",
              "      <th>Star Rating 1</th>\n",
              "      <td>0.909557</td>\n",
              "      <td>0.938576</td>\n",
              "      <td>0.882280</td>\n",
              "    </tr>\n",
              "    <tr>\n",
              "      <th>Star Rating 2</th>\n",
              "      <td>0.881566</td>\n",
              "      <td>0.894440</td>\n",
              "      <td>0.869057</td>\n",
              "    </tr>\n",
              "    <tr>\n",
              "      <th>Star Rating 3</th>\n",
              "      <td>0.849623</td>\n",
              "      <td>0.815010</td>\n",
              "      <td>0.887306</td>\n",
              "    </tr>\n",
              "    <tr>\n",
              "      <th>Star Rating 4</th>\n",
              "      <td>0.796553</td>\n",
              "      <td>0.817366</td>\n",
              "      <td>0.776775</td>\n",
              "    </tr>\n",
              "    <tr>\n",
              "      <th>Star Rating 5</th>\n",
              "      <td>0.818405</td>\n",
              "      <td>0.798994</td>\n",
              "      <td>0.838783</td>\n",
              "    </tr>\n",
              "  </tbody>\n",
              "</table>\n",
              "</div>"
            ],
            "text/plain": [
              "               F1 Score  Precision    Recall\n",
              "Star Rating 1  0.909557   0.938576  0.882280\n",
              "Star Rating 2  0.881566   0.894440  0.869057\n",
              "Star Rating 3  0.849623   0.815010  0.887306\n",
              "Star Rating 4  0.796553   0.817366  0.776775\n",
              "Star Rating 5  0.818405   0.798994  0.838783"
            ]
          },
          "metadata": {
            "tags": []
          }
        }
      ]
    },
    {
      "cell_type": "markdown",
      "metadata": {
        "id": "r1jzLacF5Imn",
        "colab_type": "text"
      },
      "source": [
        "**Interpreting the Confusion Matrix**\n",
        "\n",
        "From the above confusion matrix, we see that Logistic Regression did very well in 1 star ratings but kept reducing its F1 score in subsequent classes. This suggests that the classifier finds it difficult to differentiate between the higher star ratings. From the confusion matrix it is evident that classifier has a high misclassification rate for **Star Rating 4** and frequently guessed Rating 3 or 5 instead of 4. "
      ]
    },
    {
      "cell_type": "markdown",
      "metadata": {
        "id": "_MVDLWcK7uvp",
        "colab_type": "text"
      },
      "source": [
        "**Future Scope**\n",
        "\n",
        "The future scope of the project is to work on improving the accuracy for the higher star ratings (ratings 3,4 and 5) and doing more feature engineering to come up with better features. "
      ]
    },
    {
      "cell_type": "markdown",
      "metadata": {
        "id": "relcZ5qq7-1l",
        "colab_type": "text"
      },
      "source": [
        "Thank you for your time and patience. You are a star! :P (Actually, you are 5 stars!) "
      ]
    }
  ]
}